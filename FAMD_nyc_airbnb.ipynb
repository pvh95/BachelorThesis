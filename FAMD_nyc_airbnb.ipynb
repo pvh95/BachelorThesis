{
  "nbformat": 4,
  "nbformat_minor": 0,
  "metadata": {
    "colab": {
      "name": "FAMD_nyc_airbnb.ipynb",
      "provenance": [],
      "collapsed_sections": [],
      "authorship_tag": "ABX9TyOn3YgOG7qmNxkzYgsLQLZJ",
      "include_colab_link": true
    },
    "kernelspec": {
      "name": "python3",
      "display_name": "Python 3"
    }
  },
  "cells": [
    {
      "cell_type": "markdown",
      "metadata": {
        "id": "view-in-github",
        "colab_type": "text"
      },
      "source": [
        "<a href=\"https://colab.research.google.com/github/pvh95/ML-Projects/blob/master/FAMD_nyc_airbnb.ipynb\" target=\"_parent\"><img src=\"https://colab.research.google.com/assets/colab-badge.svg\" alt=\"Open In Colab\"/></a>"
      ]
    },
    {
      "cell_type": "markdown",
      "metadata": {
        "id": "tJ5n6O9jckNs"
      },
      "source": [
        "## **Importing: Numpy, Pandas, Scikit-Learn, Seaborn, Matplotlib**"
      ]
    },
    {
      "cell_type": "code",
      "metadata": {
        "id": "J0ETegeufDFA"
      },
      "source": [
        "import math\n",
        "import numpy as np \n",
        "import pandas as pd\n",
        "import sklearn \n",
        "import scipy\n",
        "%matplotlib inline\n",
        "from scipy import stats\n",
        "import matplotlib as mpl\n",
        "import matplotlib.pyplot as plt\n",
        "import seaborn as sns\n",
        "#mpl.rc('axes', labelsize=14)\n",
        "#mpl.rc('xtick', labelsize=12)\n",
        "#mpl.rc('ytick', labelsize=12)\n",
        "\n",
        "\n",
        "import missingno as msno\n",
        "import warnings \n",
        "warnings.filterwarnings('ignore')\n",
        "import copy "
      ],
      "execution_count": null,
      "outputs": []
    },
    {
      "cell_type": "markdown",
      "metadata": {
        "id": "YRm0qy3sgSBQ"
      },
      "source": [
        "# Uploading and Accessing the New York City Airbnb data from 2019, https://www.kaggle.com/dgomonov/new-york-city-airbnb-open-data"
      ]
    },
    {
      "cell_type": "code",
      "metadata": {
        "id": "RqfWBFnIfTv8",
        "outputId": "4990788e-4e40-4555-f79d-2b94185ad0e2",
        "colab": {
          "base_uri": "https://localhost:8080/"
        }
      },
      "source": [
        "from google.colab import files\n",
        "from google.colab import drive \n",
        "drive.mount('/content/gdrive')"
      ],
      "execution_count": null,
      "outputs": [
        {
          "output_type": "stream",
          "text": [
            "Mounted at /content/gdrive\n"
          ],
          "name": "stdout"
        }
      ]
    },
    {
      "cell_type": "markdown",
      "metadata": {
        "id": "xSZiotG2nAlJ"
      },
      "source": [
        "## **Looking at the Big Picture**\n",
        "Welcome to our NYC (Not **NY**iregyhaza **C**ity) AirBnB Price Prediction Modelling Group or as we like to call ourselves Goal Diggers (No, **NOT** Gold Diggers)  \n",
        "The data includes *latitude and longitude of properties, room_type, price, min nights, # of reviews, reviwews/month, host listing and days availabe for booking*.  \n",
        "\n",
        "Our target variable is the price. \n",
        "\n",
        "# **Framing the problem**\n",
        "1.   Business Objective: Prediction of any NYC Airbnb property price/night\n",
        "2.   The Frame:\n",
        "\n",
        "  *   A supervised learning task (as each instance comes with a price)\n",
        "  *   A regression (specifically multiple and univariate regression) task as having many attributes for making prediction and only trying to predict a single value, respectively \n",
        "  *   Offline learning task aka once the system is trained, it is put into use w/o learning it anymore \n",
        "\n",
        "3. Performance Measure (Cost Function for Regression): \n",
        "\n",
        "\n",
        "*   **RMSE (Root Mean Square Error)** is typical for regression tasks. The underlying idea behind is how much the system typically makes in its predictions, w/ a heigher weight for large errors:\n",
        "> $ RMSE(\\textbf{X}, f)= \\sqrt{\\dfrac{1}{n} \\sum_{i=1}^{n} \\, (f( \\textbf{x}_{i}) - y_{i})^2}$ \n",
        "\n",
        "  where n: # of instances in the data set; $\\textbf{x}_i$ is a vector of containing all the attributes excl. the dependent variables (ala price) of the $i^{th}$ instance; $y_{i}$ is the output for that instance;  $f$ is the prediction function $==>$ $\\hat{y_{i}} = f(\\textbf{x}_i)$\n",
        "*   **MAE (Mean Absolute Error)**   is another possibility cost function for a regression task: \n",
        "> $ MAE(\\textbf{X}, f)= \\dfrac{1}{n} \\sum_{i=1}^{n} \\, |f( \\textbf{x}_{i}) - y_{i}|$\n",
        "\n",
        "* Both RMSE and MAE are norms ($L_2$ and $L_1 \\, $ respectively}. \n",
        "Let's see which one is better for our purpose.   \n",
        "\n",
        "\n",
        "\n",
        "\n",
        "\n",
        "\n",
        "\n",
        "\n",
        "\n",
        "\n",
        "\n",
        "\n",
        "\n",
        "\n",
        "\n",
        "\n",
        "\n",
        "\n"
      ]
    },
    {
      "cell_type": "code",
      "metadata": {
        "id": "aIta2Bi8jZfx"
      },
      "source": [
        "nycAB_orig = pd.read_csv('gdrive/My Drive/NYC_AB_2019.csv')"
      ],
      "execution_count": null,
      "outputs": []
    },
    {
      "cell_type": "code",
      "metadata": {
        "id": "88V5g0bpnTzH"
      },
      "source": [
        "nycAB_orig.info()"
      ],
      "execution_count": null,
      "outputs": []
    },
    {
      "cell_type": "code",
      "metadata": {
        "id": "2qeJVmbunskx"
      },
      "source": [
        "nycAB_orig.describe()"
      ],
      "execution_count": null,
      "outputs": []
    },
    {
      "cell_type": "code",
      "metadata": {
        "id": "UButcEdS7EjN"
      },
      "source": [
        "msno.bar(nycAB_orig,sort='ascending',color='red')\n",
        "plt.show()"
      ],
      "execution_count": null,
      "outputs": []
    },
    {
      "cell_type": "code",
      "metadata": {
        "id": "L2BivFYChw5W"
      },
      "source": [
        "nycAB_orig['neighbourhood_group'].value_counts()"
      ],
      "execution_count": null,
      "outputs": []
    },
    {
      "cell_type": "code",
      "metadata": {
        "id": "UEbBoxuoxOX9"
      },
      "source": [
        "nycAB_orig[\"room_type\"].value_counts()"
      ],
      "execution_count": null,
      "outputs": []
    },
    {
      "cell_type": "code",
      "metadata": {
        "id": "msHNp3R03h-Q"
      },
      "source": [
        "nycAB_orig.head()"
      ],
      "execution_count": null,
      "outputs": []
    },
    {
      "cell_type": "code",
      "metadata": {
        "id": "gYgY1U4IUD1k",
        "outputId": "e4d95694-4faa-4d37-c592-6629909089f8",
        "colab": {
          "base_uri": "https://localhost:8080/",
          "height": 69
        }
      },
      "source": [
        "print(f\"Average of price per night : ${nycAB_orig.price.mean():.2f}\")\n",
        "print(f\"Maximum price per night : ${nycAB_orig.price.max()}\")\n",
        "print(f\"Minimum price per night : ${nycAB_orig.price.min()}\") #There are some free houses "
      ],
      "execution_count": null,
      "outputs": [
        {
          "output_type": "stream",
          "text": [
            "Average of price per night : $152.72\n",
            "Maximum price per night : $10000\n",
            "Minimum price per night : $0\n"
          ],
          "name": "stdout"
        }
      ]
    },
    {
      "cell_type": "markdown",
      "metadata": {
        "id": "SXe2JAXBWdv_"
      },
      "source": [
        "# **Framing the problem** (cont.)\n",
        "*   The plot shows tail-heaviness at the right end, that is, in our context, there are very few outliers $==>$ **RMSE** is the preferred choice for a cost function/performance measurement tool  \n",
        "\n",
        "# **A sneak peak into the data structure**\n",
        "*   head() and info() method (see above): \n",
        "  *   Each row depicts a property with a unique id \n",
        "  *   16 features, 48895 instances\n",
        "  *   6 attributes are text, all other are numerical\n",
        "  *   In the info() method, it can be clearly seen that *last_review* and *reviews_per_month* have more than 10.052 missing entries => should treat this later on. \n",
        "\n",
        "*   describe() method (see above): \n",
        "  *   Some descriptive statisitics could be read for each numerical feature \n",
        "\n",
        "\n",
        "\n",
        "\n",
        "\n"
      ]
    },
    {
      "cell_type": "code",
      "metadata": {
        "id": "bvCiGn-uZo4T"
      },
      "source": [
        "#nycAB_orig.hist(bins=30, figsize=(20,14))\n",
        "nycAB_orig.hist(bins=20, figsize=(17,10))"
      ],
      "execution_count": null,
      "outputs": []
    },
    {
      "cell_type": "code",
      "metadata": {
        "id": "TuNtrrl-fhkd"
      },
      "source": [
        "#logPrice = np.log(nycAB_orig[\"price\"])\n",
        "#plt.figure(figsize=(10,7))\n",
        "#sns.set(style=\"whitegrid\")\n",
        "#ax = sns.boxplot(x=logPrice)"
      ],
      "execution_count": null,
      "outputs": []
    },
    {
      "cell_type": "code",
      "metadata": {
        "id": "4_zfHl7hfMmn"
      },
      "source": [
        "sns.set(style=\"whitegrid\")\n",
        "sns.distplot(nycAB_orig[\"price\"], bins = 30)"
      ],
      "execution_count": null,
      "outputs": []
    },
    {
      "cell_type": "code",
      "metadata": {
        "id": "KM48nFp4fpPK",
        "outputId": "17566c88-140e-4f78-83e9-0cc4d771d6a1",
        "colab": {
          "base_uri": "https://localhost:8080/",
          "height": 283
        }
      },
      "source": [
        "from sklearn import preprocessing\n",
        "from sklearn.preprocessing import PowerTransformer\n",
        "trialdf = pd.DataFrame(nycAB_orig, columns= [\"price\"])\n",
        "pt = preprocessing.PowerTransformer(method='yeo-johnson')\n",
        "modified_price = pt.fit_transform(trialdf)\n",
        "sns.distplot(modified_price, bins = 30)  #With Yeo-Johnson transformation our price variable now looks more like a Gaussaian distro"
      ],
      "execution_count": null,
      "outputs": [
        {
          "output_type": "execute_result",
          "data": {
            "text/plain": [
              "<matplotlib.axes._subplots.AxesSubplot at 0x7fa495289780>"
            ]
          },
          "metadata": {
            "tags": []
          },
          "execution_count": 6
        },
        {
          "output_type": "display_data",
          "data": {
            "image/png": "[encoded data removed]",
            "text/plain": [
              "<Figure size 432x288 with 1 Axes>"
            ]
          },
          "metadata": {
            "tags": [],
            "needs_background": "light"
          }
        }
      ]
    },
    {
      "cell_type": "code",
      "metadata": {
        "id": "J14GCZJKxwbq"
      },
      "source": [
        "nycAB_orig.isnull().sum()"
      ],
      "execution_count": null,
      "outputs": []
    },
    {
      "cell_type": "markdown",
      "metadata": {
        "id": "vy9f03Oh4G1k"
      },
      "source": [
        "# **A sneak peak into the data structure** (cont.)\n",
        "*   Histogram (what can be noticed): \n",
        "  *   Most histograms tends to skewed to the left, aka tail-heavy at the right end $-->$ Try to transform them to have more bell-shaped-like distro.\n",
        "  *   Features gave wide range of scales. Feature scaling is needed before feeding into the system. \n",
        "  *   latitude and longitude histograms' resemble a normal-like distribution $-->$ Properties concentrate on more of a central location of NYC (like Manhattan, Brooklyn) - it will be seen through data visulaization, too.    \n",
        "\n",
        "\n",
        "\n"
      ]
    },
    {
      "cell_type": "markdown",
      "metadata": {
        "id": "9sqiOobv6K2g"
      },
      "source": [
        "# **Creating a Train, Validation, Test Set**\n",
        "*   Train/Test = 80/20\n",
        "*   Train ---> TrainReduced/Valid = 80/20\n",
        "*   Want to make sure our test set is representative of the universe so a good idea to implement **stratified sampling**. In other words, the data points are allocated to their respective homogenous subgroups called strata, and the appropirate # of data entries are sampled from each stratum. This way, representativeness can be ensured.\n",
        "*   Doing Stratified sampling according to *neighboorhood_group* or *room_type*\n",
        "*   Creating strata based on a better representative feature \n",
        "\n",
        "\n",
        "\n",
        "\n"
      ]
    },
    {
      "cell_type": "code",
      "metadata": {
        "id": "dibX-0my8mh-"
      },
      "source": [
        "sns.set(style=\"whitegrid\")\n",
        "sns.countplot(nycAB_orig['neighbourhood_group'], palette=\"bright\")\n",
        "fig = plt.gcf()\n",
        "fig.set_size_inches(6,6)\n",
        "plt.title('Neighbourhood Group')\n",
        "nycAB_orig[\"neighbourhood_group\"].value_counts() / len(nycAB_orig)"
      ],
      "execution_count": null,
      "outputs": []
    },
    {
      "cell_type": "code",
      "metadata": {
        "id": "krufwmXljdac"
      },
      "source": [
        "sns.set(style=\"whitegrid\")\n",
        "sns.countplot(nycAB_orig['room_type'], palette=\"bright\")\n",
        "fig = plt.gcf()\n",
        "fig.set_size_inches(6,6)\n",
        "plt.title('Room Type')\n",
        "nycAB_orig[\"room_type\"].value_counts() / len(nycAB_orig)"
      ],
      "execution_count": null,
      "outputs": []
    },
    {
      "cell_type": "markdown",
      "metadata": {
        "id": "RNE7Q-jk3krG"
      },
      "source": [
        "### Creating Train and Test Set "
      ]
    },
    {
      "cell_type": "code",
      "metadata": {
        "id": "KYPi6FVT8Ayb"
      },
      "source": [
        "'''\n",
        "from sklearn.model_selection import StratifiedShuffleSplit\n",
        "\n",
        "randState = 69  ## initialize random state for replicability \n",
        "split = StratifiedShuffleSplit(n_splits=1, test_size=0.2, random_state= randState)\n",
        "\n",
        "#for train_index, test_index in split.split(nycAB_orig, nycAB_orig[\"neighbourhood_group\"]):\n",
        "for train_index, test_index in split.split(nycAB_orig, nycAB_orig[\"room_type\"]):\n",
        "  stratified_train_set_trial = nycAB_orig.loc[train_index]\n",
        "  stratified_test_set_trial = nycAB_orig.loc[test_index]\n",
        "\n",
        "#stratified_test_set_trial[\"neighbourhood_group\"].value_counts() / len(stratified_test_set_trial)  #Checking the distro of test set \n",
        "stratified_test_set_trial[\"room_type\"].value_counts() / len(stratified_test_set_trial)  #Checking the distro of test set \n",
        "'''"
      ],
      "execution_count": null,
      "outputs": []
    },
    {
      "cell_type": "code",
      "metadata": {
        "id": "1E4vP1MY87b4"
      },
      "source": [
        "stratified_test_set_trial[\"neighbourhood_group\"].value_counts() / len(stratified_test_set_trial)  #Checking the distro of test set "
      ],
      "execution_count": null,
      "outputs": []
    },
    {
      "cell_type": "code",
      "metadata": {
        "id": "XtIwJj0R4ViV",
        "outputId": "df8af618-5449-4209-ae05-7f2ece279514",
        "colab": {
          "base_uri": "https://localhost:8080/"
        }
      },
      "source": [
        "from sklearn.model_selection import StratifiedShuffleSplit\n",
        "\n",
        "randState = 69  ## initialize random state for replicability \n",
        "split = StratifiedShuffleSplit(n_splits=1, test_size=0.2, random_state= randState)\n",
        "\n",
        "for train_index, test_index in split.split(nycAB_orig, nycAB_orig[\"neighbourhood_group\"]):\n",
        "#for train_index, test_index in split.split(nycAB_orig, nycAB_orig[\"room_type\"]):\n",
        "  stratified_train_set = nycAB_orig.loc[train_index]\n",
        "  stratified_test_set = nycAB_orig.loc[test_index]\n",
        "\n",
        "stratified_test_set[\"neighbourhood_group\"].value_counts() / len(stratified_test_set)  #Checking the distro of test set \n",
        "#stratified_test_set[\"room_type\"].value_counts() / len(stratified_test_set)  #Checking the distro of test set "
      ],
      "execution_count": null,
      "outputs": [
        {
          "output_type": "execute_result",
          "data": {
            "text/plain": [
              "Manhattan        0.442990\n",
              "Brooklyn         0.411187\n",
              "Queens           0.115861\n",
              "Bronx            0.022293\n",
              "Staten Island    0.007669\n",
              "Name: neighbourhood_group, dtype: float64"
            ]
          },
          "metadata": {
            "tags": []
          },
          "execution_count": 4
        }
      ]
    },
    {
      "cell_type": "code",
      "metadata": {
        "id": "lJ7cB3XQ6NvI"
      },
      "source": [
        "stratified_test_set[\"room_type\"].value_counts() / len(stratified_test_set)"
      ],
      "execution_count": null,
      "outputs": []
    },
    {
      "cell_type": "code",
      "metadata": {
        "id": "DqIltdkn9umO"
      },
      "source": [
        "(stratified_test_set_trial[\"neighbourhood_group\"].value_counts() / len(stratified_test_set_trial)) / (stratified_test_set[\"neighbourhood_group\"].value_counts() / len(stratified_test_set)) - 1"
      ],
      "execution_count": null,
      "outputs": []
    },
    {
      "cell_type": "code",
      "metadata": {
        "id": "aVLms9rP-UJD"
      },
      "source": [
        "(stratified_test_set_trial[\"room_type\"].value_counts() / len(stratified_test_set_trial)) / (stratified_test_set[\"room_type\"].value_counts() / len(stratified_test_set)) -1"
      ],
      "execution_count": null,
      "outputs": []
    },
    {
      "cell_type": "markdown",
      "metadata": {
        "id": "e9V2TEd8UAK-"
      },
      "source": [
        "Should base our stratified sampling on *neighbourhood_group*, the differences are more distributed among the categories within neighboor_hood_group than in the case of *room_type*"
      ]
    },
    {
      "cell_type": "code",
      "metadata": {
        "id": "JxiKMAi58FqV"
      },
      "source": [
        "len(stratified_train_set)"
      ],
      "execution_count": null,
      "outputs": []
    },
    {
      "cell_type": "code",
      "metadata": {
        "id": "DyihBWGY8AE-"
      },
      "source": [
        "dummyIndex = pd.Index(np.arange(len(stratified_train_set)))\n",
        "dummyStrat_trainSet = stratified_train_set.set_index(dummyIndex)   #Creating a DummyTrainSet by setting a new index that is in-order, important when it comes to do stratified "
      ],
      "execution_count": null,
      "outputs": []
    },
    {
      "cell_type": "markdown",
      "metadata": {
        "id": "T0i75kxSPEfL"
      },
      "source": [
        "### Creating Reduced Train and Validation Set "
      ]
    },
    {
      "cell_type": "code",
      "metadata": {
        "id": "qJ3UdaOy3a8U",
        "outputId": "171c949c-1416-4838-df18-b08e63568def",
        "colab": {
          "base_uri": "https://localhost:8080/"
        }
      },
      "source": [
        "for trainRed_index, valid_index in split.split(dummyStrat_trainSet, dummyStrat_trainSet[\"neighbourhood_group\"]):\n",
        "#for trainRed_index, valid_index in split.split(dummyStrat_trainSet, dummyStrat_trainSet[\"room_type\"]):\n",
        "  stratified_trainRed_set = dummyStrat_trainSet.loc[trainRed_index]\n",
        "  stratified_valid_set = dummyStrat_trainSet.loc[valid_index]\n",
        "\n",
        "stratified_valid_set[\"neighbourhood_group\"].value_counts() / len(stratified_valid_set)  #Checking the distro of test set\n",
        "#stratified_valid_set[\"room_type\"].value_counts() / len(stratified_valid_set)  #Checking the distro of test set  "
      ],
      "execution_count": null,
      "outputs": [
        {
          "output_type": "execute_result",
          "data": {
            "text/plain": [
              "Manhattan        0.442996\n",
              "Brooklyn         0.411171\n",
              "Queens           0.115925\n",
              "Bronx            0.022367\n",
              "Staten Island    0.007541\n",
              "Name: neighbourhood_group, dtype: float64"
            ]
          },
          "metadata": {
            "tags": []
          },
          "execution_count": 7
        }
      ]
    },
    {
      "cell_type": "markdown",
      "metadata": {
        "id": "U-fEbEQTAwQh"
      },
      "source": [
        "# **Creating a Test Set** (cont.)\n",
        "*   5 strata --- Brooklyn, Manhattan, Queens, Staten Island, Bronx\n",
        "*   Comparing the test set with the universe, it could be seen we achived our goals of having very similar location distribution in the test set compared to the original data set $==>$ representiveness is ensured. \n",
        "*   After creating test set, we put it on hold until doing fine-tuning on training set\n",
        "*   From now on, we are gonna exploring training set, but before that the training set needs to be copied \n",
        "\n"
      ]
    },
    {
      "cell_type": "code",
      "metadata": {
        "id": "NkAfN_K3PG8e"
      },
      "source": [
        "nycAB = copy.deepcopy(stratified_train_set)  #Creating a copy of the training set and gonna tinker the copied version "
      ],
      "execution_count": null,
      "outputs": []
    },
    {
      "cell_type": "markdown",
      "metadata": {
        "id": "sGYwtNC--Rw2"
      },
      "source": [
        "# **Looking at the Data Structure Again and Now Tinkering it** \n",
        "1.   Visualizations\n",
        "2.   Sepaerating the predictors and the target variable as we would not want to apply the same transformations to the predictors and target values\n",
        "3.   Now we are allowed to make modifications/transformations/adjustments on the (copied) training set \n",
        "4.  Data Cleaning and Imputatuion \n",
        "5.   Feature Engineering (Feature Selection, Feature Extraction) \n",
        "6.   Transoformation Scaling \n",
        "\n",
        "\n",
        "\n"
      ]
    },
    {
      "cell_type": "code",
      "metadata": {
        "id": "Zr3F7QSn7rke"
      },
      "source": [
        "nycAB.info()"
      ],
      "execution_count": null,
      "outputs": []
    },
    {
      "cell_type": "code",
      "metadata": {
        "id": "NIjlzHJqW8v6"
      },
      "source": [
        "nycAB.describe()"
      ],
      "execution_count": null,
      "outputs": []
    },
    {
      "cell_type": "code",
      "metadata": {
        "id": "yeWJAumtOhM3"
      },
      "source": [
        "nycAB.isnull().sum()"
      ],
      "execution_count": null,
      "outputs": []
    },
    {
      "cell_type": "code",
      "metadata": {
        "id": "aLe-Z6O7mpR3"
      },
      "source": [
        "nycAB['neighbourhood_group'].value_counts()"
      ],
      "execution_count": null,
      "outputs": []
    },
    {
      "cell_type": "code",
      "metadata": {
        "id": "mpPCW_J9Nmqo"
      },
      "source": [
        "sns.set(style=\"whitegrid\")\n",
        "sns.countplot(nycAB['neighbourhood_group'], palette=\"bright\")\n",
        "fig = plt.gcf()\n",
        "fig.set_size_inches(6,6)\n",
        "plt.title('Neighbourhood Group')\n",
        "nycAB[\"neighbourhood_group\"].value_counts() / len(nycAB)"
      ],
      "execution_count": null,
      "outputs": []
    },
    {
      "cell_type": "code",
      "metadata": {
        "id": "T-leEyH4mp7U"
      },
      "source": [
        "nycAB['room_type'].value_counts()"
      ],
      "execution_count": null,
      "outputs": []
    },
    {
      "cell_type": "code",
      "metadata": {
        "id": "ZMWdtSBqNp57"
      },
      "source": [
        "sns.set(style=\"whitegrid\")\n",
        "sns.countplot(nycAB['room_type'], palette=\"bright\")\n",
        "fig = plt.gcf()\n",
        "fig.set_size_inches(6,6)\n",
        "plt.title('Room Type')\n",
        "nycAB[\"room_type\"].value_counts() / len(nycAB)"
      ],
      "execution_count": null,
      "outputs": []
    },
    {
      "cell_type": "code",
      "metadata": {
        "id": "nyBrR-UOcHLj",
        "outputId": "bcafa850-7e4c-49fc-99ed-d766e31d8215",
        "colab": {
          "base_uri": "https://localhost:8080/",
          "height": 87
        }
      },
      "source": [
        "print(f\"Average of price per night : ${nycAB.price.mean():.2f}\")\n",
        "print(f\"Median price per night : ${nycAB.price.median():.2f}\")\n",
        "print(f\"Maximum price per night : ${nycAB.price.max()}\")\n",
        "print(f\"Minimum price per night : ${nycAB.price.min()}\") #There are some free houses "
      ],
      "execution_count": null,
      "outputs": [
        {
          "output_type": "stream",
          "text": [
            "Average of price per night : $152.30\n",
            "Median price per night : $107.00\n",
            "Maximum price per night : $10000\n",
            "Minimum price per night : $0\n"
          ],
          "name": "stdout"
        }
      ]
    },
    {
      "cell_type": "markdown",
      "metadata": {
        "id": "eUlm1MkrB6t2"
      },
      "source": [
        "# Visualizing the data \n",
        "*   Try to visualize train set properties on a scatter plot based on their longitude and latitude data for discovering high-density areas and how prices vary in those areas \n",
        "\n"
      ]
    },
    {
      "cell_type": "code",
      "metadata": {
        "id": "Khj0x6j8KcmS",
        "outputId": "2ea15ff8-1fcc-43a8-f2dd-0a9b46e908e8",
        "colab": {
          "base_uri": "https://localhost:8080/",
          "height": 89
        }
      },
      "source": [
        "num_vars = [col for col in nycAB.columns if nycAB[col].dtype != 'O' and nycAB[col].dtype != bool]\n",
        "print('The number of numerical variables:', str(len(num_vars)))\n",
        "print()\n",
        "print('The numerical variables are :', num_vars)"
      ],
      "execution_count": null,
      "outputs": [
        {
          "output_type": "stream",
          "text": [
            "The number of numerical variables: 10\n",
            "\n",
            "The numerical variables are : ['id', 'host_id', 'latitude', 'longitude', 'price', 'minimum_nights', 'number_of_reviews', 'reviews_per_month', 'calculated_host_listings_count', 'availability_365']\n"
          ],
          "name": "stdout"
        }
      ]
    },
    {
      "cell_type": "code",
      "metadata": {
        "id": "Qa8dnyiNKSbT"
      },
      "source": [
        "def boxplot_for_outlier(df,columns):\n",
        "    count = 0\n",
        "    fig, ax =plt.subplots(nrows=5,ncols=2, figsize=(9,18))\n",
        "    for i in range(5):\n",
        "        for j in range(2):\n",
        "            sns.boxplot(x = df[columns[count]], palette=\"Set2\",ax=ax[i][j])\n",
        "            count = count+1\n",
        "\n",
        "boxplot_for_outlier(nycAB,num_vars)"
      ],
      "execution_count": null,
      "outputs": []
    },
    {
      "cell_type": "code",
      "metadata": {
        "id": "V4SXNCaJZ20a"
      },
      "source": [
        "nycAB.hist(bins=30, figsize=(30,22))"
      ],
      "execution_count": null,
      "outputs": []
    },
    {
      "cell_type": "markdown",
      "metadata": {
        "id": "nj2WB94MToCi"
      },
      "source": [
        "Latitude and Longitude follows a kinda normal distributions $==>$ properties concantrated around on those areas mostly (Manhattan and Brooklyn as we would see later on)"
      ]
    },
    {
      "cell_type": "code",
      "metadata": {
        "id": "worRlQ7qJq5Y"
      },
      "source": [
        "sns.countplot(nycAB['neighbourhood_group'], palette=\"bright\")\n",
        "fig = plt.gcf()\n",
        "fig.set_size_inches(7,7)\n",
        "plt.title('Neighbourhood Group')"
      ],
      "execution_count": null,
      "outputs": []
    },
    {
      "cell_type": "code",
      "metadata": {
        "id": "eH3P-_6jgQ4A"
      },
      "source": [
        "plt.figure(figsize=(10,10))\n",
        "sns.boxplot(x='neighbourhood_group',y='availability_365',palette='bright', data=nycAB)\n",
        "plt.title('Neighbourhood Group and Availability')"
      ],
      "execution_count": null,
      "outputs": []
    },
    {
      "cell_type": "code",
      "metadata": {
        "id": "1ZA23XGnLDfy"
      },
      "source": [
        "sns.countplot(nycAB['room_type'], palette=\"bright\")\n",
        "fig = plt.gcf()\n",
        "fig.set_size_inches(7,7)\n",
        "plt.title('Room Type')"
      ],
      "execution_count": null,
      "outputs": []
    },
    {
      "cell_type": "code",
      "metadata": {
        "id": "leLoeQRCMAe0"
      },
      "source": [
        "sns.countplot(nycAB['room_type'], hue=nycAB['neighbourhood_group'], palette=\"bright\")\n",
        "fig = plt.gcf()\n",
        "fig.set_size_inches(15,8)\n",
        "plt.title('Room Type Based on Neighboorhood Group')"
      ],
      "execution_count": null,
      "outputs": []
    },
    {
      "cell_type": "code",
      "metadata": {
        "id": "oxZUyj6pQrrT"
      },
      "source": [
        "plt.figure(figsize=(10,10))\n",
        "sns.scatterplot(x = nycAB['longitude'], y= nycAB['latitude'], hue=nycAB['neighbourhood_group'], palette='bright')\n",
        "plt.show()"
      ],
      "execution_count": null,
      "outputs": []
    },
    {
      "cell_type": "code",
      "metadata": {
        "id": "c-ZKB5hNityf"
      },
      "source": [
        "plt.figure(figsize=(10,10))\n",
        "sns.scatterplot(x = nycAB['longitude'], y= nycAB['latitude'], hue=nycAB['room_type'], palette='colorblind')\n",
        "plt.show()"
      ],
      "execution_count": null,
      "outputs": []
    },
    {
      "cell_type": "markdown",
      "metadata": {
        "id": "5FF2DV_a2KLy"
      },
      "source": [
        "# Price plot"
      ]
    },
    {
      "cell_type": "code",
      "metadata": {
        "id": "19OTpvkd2G7D"
      },
      "source": [
        "from sklearn import preprocessing\n",
        "from sklearn.preprocessing import PowerTransformer\n",
        "trialdf = pd.DataFrame(nycAB, columns= [\"price\"])\n",
        "pt = preprocessing.PowerTransformer(method='yeo-johnson')\n",
        "YJ_modified_price_array = pt.fit_transform(trialdf)\n",
        "YJ_modified_price_df = pd.DataFrame(YJ_modified_price_array, columns = trialdf.columns, index = trialdf.index)"
      ],
      "execution_count": null,
      "outputs": []
    },
    {
      "cell_type": "code",
      "metadata": {
        "id": "KhBKMnZ5Q6ib"
      },
      "source": [
        "nycAB.plot(kind=\"scatter\", x=\"longitude\", y=\"latitude\", alpha=0.3, figsize=(10,10),\n",
        "    c=YJ_modified_price_array, cmap=plt.get_cmap(\"jet\"), colorbar=True, sharex=False)"
      ],
      "execution_count": null,
      "outputs": []
    },
    {
      "cell_type": "markdown",
      "metadata": {
        "id": "gMNPI2G_vkk4"
      },
      "source": [
        "# Neighbourhood\n"
      ]
    },
    {
      "cell_type": "code",
      "metadata": {
        "id": "NAZICqtnvjl6",
        "outputId": "e7cbe360-a05f-467f-e241-a35a8c0297e7",
        "colab": {
          "base_uri": "https://localhost:8080/"
        }
      },
      "source": [
        "len(nycAB['neighbourhood'].unique())"
      ],
      "execution_count": null,
      "outputs": [
        {
          "output_type": "execute_result",
          "data": {
            "text/plain": [
              "221"
            ]
          },
          "metadata": {
            "tags": []
          },
          "execution_count": 120
        }
      ]
    },
    {
      "cell_type": "code",
      "metadata": {
        "id": "f5rdHOlPwTO-"
      },
      "source": [
        "top5Neighbourhood = nycAB.neighbourhood.value_counts().head(5)\n",
        "sns.barplot(x = top5Neighbourhood.index, y = top5Neighbourhood.values, palette = 'bright')\n",
        "fig = plt.gcf()\n",
        "fig.set_size_inches(10,7)\n",
        "plt.title('TOP5 Neighbourhood')"
      ],
      "execution_count": null,
      "outputs": []
    },
    {
      "cell_type": "code",
      "metadata": {
        "id": "0gz0JMZ6z-Do",
        "outputId": "9f511984-94bb-4e3c-95a8-4148310e6baa",
        "colab": {
          "base_uri": "https://localhost:8080/"
        }
      },
      "source": [
        "nycAB.neighbourhood.value_counts().head(5)"
      ],
      "execution_count": null,
      "outputs": [
        {
          "output_type": "execute_result",
          "data": {
            "text/plain": [
              "Williamsburg          3098\n",
              "Bedford-Stuyvesant    2948\n",
              "Harlem                2117\n",
              "Bushwick              1986\n",
              "Hell's Kitchen        1568\n",
              "Name: neighbourhood, dtype: int64"
            ]
          },
          "metadata": {
            "tags": []
          },
          "execution_count": 127
        }
      ]
    },
    {
      "cell_type": "code",
      "metadata": {
        "id": "TsmBRkgaxCuY",
        "outputId": "b9dc2089-c4b9-4f05-ad71-787a3035cd8c",
        "colab": {
          "base_uri": "https://localhost:8080/"
        }
      },
      "source": [
        "nycAB.neighbourhood.value_counts().tail(5)"
      ],
      "execution_count": null,
      "outputs": [
        {
          "output_type": "execute_result",
          "data": {
            "text/plain": [
              "New Dorp          1\n",
              "Rossville         1\n",
              "Richmondtown      1\n",
              "West Farms        1\n",
              "Fort Wadsworth    1\n",
              "Name: neighbourhood, dtype: int64"
            ]
          },
          "metadata": {
            "tags": []
          },
          "execution_count": 126
        }
      ]
    },
    {
      "cell_type": "markdown",
      "metadata": {
        "id": "mGibhDM2lt6b"
      },
      "source": [
        "# **Discover Correlations**\n",
        "*   Our interest is how price correlates w/ other features \n",
        "*   Even though it's important to measure correlation, it may miss capturing non-linear realtionships between attributes \n",
        "\n",
        "\n",
        "\n",
        "\n"
      ]
    },
    {
      "cell_type": "code",
      "metadata": {
        "id": "u33NHCe3lvBq"
      },
      "source": [
        "#corrMtx = nycAB.corr()\n",
        "#corrMtx[\"price\"].sort_values(ascending=False)"
      ],
      "execution_count": null,
      "outputs": []
    },
    {
      "cell_type": "code",
      "metadata": {
        "id": "3CfetcnwIhQ6"
      },
      "source": [
        "#plt.figure(figsize=(15,8))\n",
        "#sns.heatmap(corrMtx, annot=True, linewidths=0.1, cmap='Reds')\n",
        "#plt.title('Correlation Matrix Heatmap')"
      ],
      "execution_count": null,
      "outputs": []
    },
    {
      "cell_type": "markdown",
      "metadata": {
        "id": "UjHQSNCAV8Rn"
      },
      "source": [
        "# **Experimanting with attributes**"
      ]
    },
    {
      "cell_type": "code",
      "metadata": {
        "id": "7235vyRiI1l-"
      },
      "source": [
        "nycAB_trial = copy.deepcopy(nycAB)\n",
        "nycAB_trial2 = copy.deepcopy(nycAB)"
      ],
      "execution_count": null,
      "outputs": []
    },
    {
      "cell_type": "code",
      "metadata": {
        "id": "8b4ceeIneHXa"
      },
      "source": [
        "nycAB_trial.isnull().sum()"
      ],
      "execution_count": null,
      "outputs": []
    },
    {
      "cell_type": "code",
      "metadata": {
        "id": "K9nPfbw-iKbp"
      },
      "source": [
        "nycAB_trial.drop(columns=['id', 'host_id', 'name', 'host_name', 'last_review'], inplace = True)"
      ],
      "execution_count": null,
      "outputs": []
    },
    {
      "cell_type": "code",
      "metadata": {
        "id": "pR2AHCR-i38W"
      },
      "source": [
        "nycAB_trial['reviews_per_month']"
      ],
      "execution_count": null,
      "outputs": []
    },
    {
      "cell_type": "code",
      "metadata": {
        "id": "zrzTvCpLeKm-"
      },
      "source": [
        "#fillna with median values\n",
        "from sklearn.impute import SimpleImputer\n",
        "imputer = SimpleImputer(strategy=\"median\")\n",
        "nycAB_miss_value_df = nycAB_trial[['reviews_per_month']]\n",
        "imputer.fit(nycAB_miss_value_df)\n",
        "X_nycAB_miss_value_df = imputer.transform(nycAB_miss_value_df)\n",
        "nycAB_miss_value_df = pd.DataFrame(X_nycAB_miss_value_df, columns=nycAB_miss_value_df.columns, index=nycAB_miss_value_df.index)"
      ],
      "execution_count": null,
      "outputs": []
    },
    {
      "cell_type": "code",
      "metadata": {
        "id": "pYI1O-0JaAyv",
        "outputId": "77d9d6ee-1cf4-4f53-b8e7-35356a8ba383",
        "colab": {
          "base_uri": "https://localhost:8080/"
        }
      },
      "source": [
        "#print(X_nycAB_miss_value_df[0:10])\n",
        "#print(nycAB_miss_value_df[0:10])\n",
        "nycAB_miss_value_df.shape"
      ],
      "execution_count": null,
      "outputs": [
        {
          "output_type": "execute_result",
          "data": {
            "text/plain": [
              "(39116, 1)"
            ]
          },
          "metadata": {
            "tags": []
          },
          "execution_count": 81
        }
      ]
    },
    {
      "cell_type": "code",
      "metadata": {
        "id": "zxS9d32DiT2u"
      },
      "source": [
        "nycAB_trial['reviews_per_month'] = nycAB_miss_value_df\n",
        "nycAB_trial.isnull().sum() "
      ],
      "execution_count": null,
      "outputs": []
    },
    {
      "cell_type": "code",
      "metadata": {
        "id": "6ZBlZiH0U9qv"
      },
      "source": [
        "nycAB_trial['months'] = nycAB_trial['number_of_reviews']/nycAB_trial['reviews_per_month']"
      ],
      "execution_count": null,
      "outputs": []
    },
    {
      "cell_type": "code",
      "metadata": {
        "id": "EaJ6hjLGYHkU"
      },
      "source": [
        "corrMtx = nycAB_trial.corr()\n",
        "corrMtx[\"price\"].sort_values(ascending=False)"
      ],
      "execution_count": null,
      "outputs": []
    },
    {
      "cell_type": "code",
      "metadata": {
        "id": "MCkeIAWr2LJR"
      },
      "source": [
        "plt.figure(figsize=(10,7))\n",
        "sns.heatmap(corrMtx, annot=True, linewidths=0.1, cmap='Reds')\n",
        "plt.title('Correlation Matrix Heatmap')"
      ],
      "execution_count": null,
      "outputs": []
    },
    {
      "cell_type": "code",
      "metadata": {
        "id": "MZgNic7WzdrB"
      },
      "source": [
        "nycAB_trial.drop(['number_of_reviews'], axis=1, inplace=True)"
      ],
      "execution_count": null,
      "outputs": []
    },
    {
      "cell_type": "code",
      "metadata": {
        "id": "0WSTcWmDPqYO",
        "outputId": "ebdad11b-5c38-4717-9dfb-b938cd92b4a5",
        "colab": {
          "base_uri": "https://localhost:8080/"
        }
      },
      "source": [
        "nycAB_trial['months'] "
      ],
      "execution_count": null,
      "outputs": [
        {
          "output_type": "execute_result",
          "data": {
            "text/plain": [
              "8098     50.000000\n",
              "39990     1.000000\n",
              "31033    14.855876\n",
              "45316     0.000000\n",
              "34516    11.290323\n",
              "           ...    \n",
              "9995     47.368421\n",
              "403      23.140496\n",
              "38269     7.352941\n",
              "41091     4.580153\n",
              "41415     4.234528\n",
              "Name: months, Length: 39116, dtype: float64"
            ]
          },
          "metadata": {
            "tags": []
          },
          "execution_count": 50
        }
      ]
    },
    {
      "cell_type": "markdown",
      "metadata": {
        "id": "ZGA1a0HNbJNr"
      },
      "source": [
        "# Seperating predictors from target variable"
      ]
    },
    {
      "cell_type": "code",
      "metadata": {
        "id": "f7JHeI21rNZP"
      },
      "source": [
        "nycAB = stratified_train_set.drop('price', axis=1)\n",
        "nycAB_tRed_set = stratified_trainRed_set.drop('price', axis=1)\n",
        "nycAB_valid_set = stratified_valid_set.drop('price', axis=1)\n",
        "X_test = stratified_test_set.drop('price', axis=1)\n",
        "\n",
        "\n",
        "nycAB_target = pd.DataFrame(stratified_train_set, columns=[\"price\"])\n",
        "nycAB_tRed_target = pd.DataFrame(stratified_trainRed_set, columns=[\"price\"])\n",
        "nycAB_valid_target = pd.DataFrame(stratified_valid_set, columns=[\"price\"])\n",
        "Y_test = pd.DataFrame(stratified_test_set, columns= [\"price\"])"
      ],
      "execution_count": null,
      "outputs": []
    },
    {
      "cell_type": "markdown",
      "metadata": {
        "id": "KlNZ2_wEc890"
      },
      "source": [
        "# **Data Cleaning, Imputing, Feature Selection, and Handling Categrocial Variables**"
      ]
    },
    {
      "cell_type": "markdown",
      "metadata": {
        "id": "jCjFKAKudL4F"
      },
      "source": [
        "**dropUnnecessary** function: \n",
        "* Dropping duplicates\n",
        "* Determining a dropList, which is a user parameter\n",
        "* Dropping *reviews_per_month* because it has a strong correlation with *number_of_reviews* (see the corr mtx heatmap) --- aka multicollinearity\n",
        "\n",
        "**dropCategorical** function: \n",
        "* Dropping Categorical features for later numerical data transformation reason\n",
        "\n",
        "**puredVersion** function: \n",
        "* Just amalgamate the two above-mentioned function into one. It's worth breaking down into smaller functions and merge them into one function, which calls those \"piece\" functions because of easier debugging.\n",
        "\n"
      ]
    },
    {
      "cell_type": "code",
      "metadata": {
        "id": "1aJOS6Sijo64"
      },
      "source": [
        "def dropUnnecessary(df, df_target, dropList):  \n",
        "  df_new = df.drop(dropList, axis=1)  #dropping features in the \"dropList\" list \n",
        "  return df_new, df_target\n",
        "\n",
        "def dropCategorical(df):\n",
        "  dropList1 = df.select_dtypes(include=['object']).columns\n",
        "  df_num = df.drop(dropList1, axis=1)\n",
        "  return df_num \n",
        "\n",
        "def puredVersion(df, df_target, dropList):\n",
        "  imputed, imputed_target = dropUnnecessary(df, df_target, dropList)\n",
        "  imputed_num = dropCategorical(imputed)\n",
        "\n",
        "  return imputed, imputed_num, imputed_target\n"
      ],
      "execution_count": null,
      "outputs": []
    },
    {
      "cell_type": "markdown",
      "metadata": {
        "id": "LJXAs6mS4C-a"
      },
      "source": [
        "# **Transformation Pipelines and Feature Scaling**  \n",
        "*   Two categorical attributes: *neighbourhood_group* and *room_type* for OneHotEncoding \n",
        "*   For having better performance, we may need to use Yeo-Johnson transformation as feature scaling. In ourcase, it transforms mainly heavy-tailed distro features (see hist above) into somewhat normal-like distro. \n",
        "Yeo-Johnson is kind of an extension to Box-Cox with the ability of handling 0 and negative values. Concurrently, we are doing standardization (as it is the default parameter in the PowerTrnsformer() class: more details @ https://scikit-learn.org/stable/modules/generated/sklearn.preprocessing.PowerTransformer.html )  \n",
        "\n",
        "* Standardization: It subtracts the mean so the standardized values have a zero mean then it divides by the Standard Deviation $==>$ The resulting distro has **unit variance** \n",
        "*  (Min-Max scaling is also a solution but it bounds a value to specific range, usually 0-1 by subtracting the min then divede it by max-min)"
      ]
    },
    {
      "cell_type": "code",
      "metadata": {
        "id": "di150bef9Rhy"
      },
      "source": [
        "from sklearn.pipeline import Pipeline\n",
        "from sklearn import preprocessing\n",
        "from sklearn.preprocessing import StandardScaler, PowerTransformer, OneHotEncoder\n",
        "from sklearn.compose import ColumnTransformer\n",
        "from sklearn.impute import SimpleImputer"
      ],
      "execution_count": null,
      "outputs": []
    },
    {
      "cell_type": "code",
      "metadata": {
        "id": "gFsnfild9JNk"
      },
      "source": [
        "def target_var_transformer(imputed_target, pT):\n",
        "  if pT is None: \n",
        "    pT = preprocessing.PowerTransformer(method='yeo-johnson') #transforming the target variable\n",
        "    targetTransform = pT.fit(imputed_target)\n",
        "    imputed_target_ready_array = targetTransform.transform(imputed_target)\n",
        "    imputed_target_ready = pd.DataFrame(imputed_target_ready_array, columns = imputed_target.columns, index = imputed_target.index)\n",
        "\n",
        "  else:\n",
        "    targetTransform = pT\n",
        "    imputed_target_ready_array = targetTransform.transform(imputed_target)\n",
        "    imputed_target_ready = pd.DataFrame(imputed_target_ready_array, columns = imputed_target.columns, index = imputed_target.index)\n",
        "\n",
        "  return imputed_target_ready, targetTransform"
      ],
      "execution_count": null,
      "outputs": []
    },
    {
      "cell_type": "code",
      "metadata": {
        "id": "nm69GDc994gu"
      },
      "source": [
        "def num_var_transformer(imputed_num, full_pipeline, strategy):\n",
        "  if strategy == 'imputer':\n",
        "    num_pipeline = Pipeline([('imputer', SimpleImputer(strategy=\"median\"))]) \n",
        "  elif strategy == 'y-j':\n",
        "    num_pipeline = Pipeline([('y-j', PowerTransformer(method='yeo-johnson'))]) \n",
        "\n",
        "  num_attr = list(imputed_num)\n",
        "\n",
        "  if full_pipeline is None: \n",
        "    full_pipeline = ColumnTransformer([\n",
        "      (\"num\", num_pipeline, num_attr)])\n",
        "\n",
        "    fittedColumnTransform = full_pipeline.fit(imputed_num)\n",
        "    imputed_num_array = fittedColumnTransform.transform(imputed_num)\n",
        "    imputed_num_ready = pd.DataFrame(imputed_num_array, columns = imputed_num.columns, index = imputed_num.index)\n",
        "\n",
        "    if (strategy == 'imputer') and ('number_of_reviews' not in dropList):\n",
        "      imputed_num_ready['months'] = imputed_num_ready['number_of_reviews'] / imputed_num_ready['reviews_per_month']\n",
        "      imputed_num_ready.drop(['number_of_reviews'], axis=1, inplace=True)\n",
        "\n",
        "    \n",
        "  else:\n",
        "    fittedColumnTransform = full_pipeline\n",
        "    imputed_num_array = fittedColumnTransform.transform(imputed_num)\n",
        "    imputed_num_ready = pd.DataFrame(imputed_num_array, columns = imputed_num.columns, index = imputed_num.index)\n",
        "\n",
        "    if (strategy == 'imputer') and ('number_of_reviews' not in dropList):\n",
        "      imputed_num_ready['months'] = imputed_num_ready['number_of_reviews'] / imputed_num_ready['reviews_per_month']\n",
        "      imputed_num_ready.drop(['number_of_reviews'], axis=1, inplace=True)\n",
        "\n",
        "  return imputed_num_ready, fittedColumnTransform\n"
      ],
      "execution_count": null,
      "outputs": []
    },
    {
      "cell_type": "code",
      "metadata": {
        "id": "hc0XEN_u2jgr"
      },
      "source": [
        "def concat_num_cat_var(imputed, imputed_num, desired_cat_attr):\n",
        "  temp_cat_df = imputed[desired_cat_attr]\n",
        "  imputed_concat = copy.deepcopy(imputed_num)\n",
        "\n",
        "  for col in desired_cat_attr:\n",
        "    imputed_concat = pd.concat([imputed_concat, pd.get_dummies(temp_cat_df[col])], axis = 1 )\n",
        "\n",
        "  return imputed_concat"
      ],
      "execution_count": null,
      "outputs": []
    },
    {
      "cell_type": "code",
      "metadata": {
        "id": "N3Fims9GU81f"
      },
      "source": [
        "#For FAMD, not onehotencode categorical variables\n",
        "\n",
        "def concat_num_cat_var(imputed, imputed_num, desired_cat_attr):\n",
        "  temp_cat_df = imputed[desired_cat_attr]\n",
        "  imputed_concat = copy.deepcopy(imputed_num)\n",
        "\n",
        "  #for col in desired_cat_attr:\n",
        "  imputed_concat = pd.concat([imputed_concat, temp_cat_df], axis = 1 )\n",
        "\n",
        "  return imputed_concat"
      ],
      "execution_count": null,
      "outputs": []
    },
    {
      "cell_type": "code",
      "metadata": {
        "id": "j_0b4svDdXpT"
      },
      "source": [
        "def df_proccessed(df, df_target, dropList, desired_cat_attr, full_pipeline1 = None, full_pipeline2 = None, pT = None):\n",
        "  imputed, imputed_num, imputed_target = puredVersion(df, df_target, dropList)\n",
        "\n",
        "  imputed_target, targetTransform = target_var_transformer(imputed_target, pT)\n",
        "\n",
        "  strategies = ['imputer', 'y-j']\n",
        "  for strategy in strategies:\n",
        "    if strategy == 'imputer':\n",
        "      imputed_num, fittedColumnTransform1 = num_var_transformer(imputed_num, full_pipeline1, strategy)\n",
        "    else: \n",
        "      imputed_num, fittedColumnTransform2 = num_var_transformer(imputed_num, full_pipeline2, strategy)\n",
        "\n",
        "  imputed_concat = concat_num_cat_var(imputed, imputed_num, desired_cat_attr)\n",
        "  imputed_concat.drop(['latitude'], axis=1, inplace=True)\n",
        "\n",
        "  return imputed_concat, imputed_target, fittedColumnTransform1, fittedColumnTransform2, targetTransform\n"
      ],
      "execution_count": null,
      "outputs": []
    },
    {
      "cell_type": "code",
      "metadata": {
        "id": "mWdiVi4lGc52"
      },
      "source": [
        "dropList = ['name','host_name','last_review','neighbourhood','host_id', 'id']\n",
        "desired_cat_attr = ['room_type','neighbourhood_group']\n",
        "imputed_concat, imputed_target, fittedColumnTransform1, fittedColumnTransform2, targetTransform =  df_proccessed(nycAB, nycAB_target, dropList, desired_cat_attr, full_pipeline1 = None, full_pipeline2 = None, pT = None)"
      ],
      "execution_count": null,
      "outputs": []
    },
    {
      "cell_type": "code",
      "metadata": {
        "id": "Nl36mhXM0iDX",
        "outputId": "b62e45ac-4a6b-4529-c1da-2fd687147846",
        "colab": {
          "base_uri": "https://localhost:8080/",
          "height": 204
        }
      },
      "source": [
        "imputed_concat.head()"
      ],
      "execution_count": null,
      "outputs": [
        {
          "output_type": "execute_result",
          "data": {
            "text/html": [
              "<div>\n",
              "<style scoped>\n",
              "    .dataframe tbody tr th:only-of-type {\n",
              "        vertical-align: middle;\n",
              "    }\n",
              "\n",
              "    .dataframe tbody tr th {\n",
              "        vertical-align: top;\n",
              "    }\n",
              "\n",
              "    .dataframe thead th {\n",
              "        text-align: right;\n",
              "    }\n",
              "</style>\n",
              "<table border=\"1\" class=\"dataframe\">\n",
              "  <thead>\n",
              "    <tr style=\"text-align: right;\">\n",
              "      <th></th>\n",
              "      <th>longitude</th>\n",
              "      <th>minimum_nights</th>\n",
              "      <th>reviews_per_month</th>\n",
              "      <th>calculated_host_listings_count</th>\n",
              "      <th>availability_365</th>\n",
              "      <th>months</th>\n",
              "      <th>room_type</th>\n",
              "      <th>neighbourhood_group</th>\n",
              "    </tr>\n",
              "  </thead>\n",
              "  <tbody>\n",
              "    <tr>\n",
              "      <th>8098</th>\n",
              "      <td>0.344259</td>\n",
              "      <td>-0.334960</td>\n",
              "      <td>-1.624189</td>\n",
              "      <td>-0.682770</td>\n",
              "      <td>-1.188832</td>\n",
              "      <td>1.153203</td>\n",
              "      <td>Entire home/apt</td>\n",
              "      <td>Brooklyn</td>\n",
              "    </tr>\n",
              "    <tr>\n",
              "      <th>39990</th>\n",
              "      <td>0.700254</td>\n",
              "      <td>1.018875</td>\n",
              "      <td>0.310928</td>\n",
              "      <td>-0.682770</td>\n",
              "      <td>0.434167</td>\n",
              "      <td>-1.125691</td>\n",
              "      <td>Entire home/apt</td>\n",
              "      <td>Brooklyn</td>\n",
              "    </tr>\n",
              "    <tr>\n",
              "      <th>31033</th>\n",
              "      <td>-0.807839</td>\n",
              "      <td>-1.285534</td>\n",
              "      <td>1.710091</td>\n",
              "      <td>0.759828</td>\n",
              "      <td>-1.188832</td>\n",
              "      <td>0.139508</td>\n",
              "      <td>Private room</td>\n",
              "      <td>Manhattan</td>\n",
              "    </tr>\n",
              "    <tr>\n",
              "      <th>45316</th>\n",
              "      <td>-0.601922</td>\n",
              "      <td>1.716625</td>\n",
              "      <td>-0.027605</td>\n",
              "      <td>-0.682770</td>\n",
              "      <td>1.075445</td>\n",
              "      <td>-1.435793</td>\n",
              "      <td>Entire home/apt</td>\n",
              "      <td>Manhattan</td>\n",
              "    </tr>\n",
              "    <tr>\n",
              "      <th>34516</th>\n",
              "      <td>3.732211</td>\n",
              "      <td>-1.285534</td>\n",
              "      <td>-0.175198</td>\n",
              "      <td>0.759828</td>\n",
              "      <td>1.164766</td>\n",
              "      <td>-0.048977</td>\n",
              "      <td>Entire home/apt</td>\n",
              "      <td>Queens</td>\n",
              "    </tr>\n",
              "  </tbody>\n",
              "</table>\n",
              "</div>"
            ],
            "text/plain": [
              "       longitude  minimum_nights  ...        room_type  neighbourhood_group\n",
              "8098    0.344259       -0.334960  ...  Entire home/apt             Brooklyn\n",
              "39990   0.700254        1.018875  ...  Entire home/apt             Brooklyn\n",
              "31033  -0.807839       -1.285534  ...     Private room            Manhattan\n",
              "45316  -0.601922        1.716625  ...  Entire home/apt            Manhattan\n",
              "34516   3.732211       -1.285534  ...  Entire home/apt               Queens\n",
              "\n",
              "[5 rows x 8 columns]"
            ]
          },
          "metadata": {
            "tags": []
          },
          "execution_count": 45
        }
      ]
    },
    {
      "cell_type": "markdown",
      "metadata": {
        "id": "DWfPzGIvOSRJ"
      },
      "source": [
        "# **Selecting and Trainaing Models** on Reduced Training Set and **Evaluating** on the Validation Set"
      ]
    },
    {
      "cell_type": "code",
      "metadata": {
        "id": "YgPp3_Rx38_a"
      },
      "source": [
        "pip install prince"
      ],
      "execution_count": null,
      "outputs": []
    },
    {
      "cell_type": "markdown",
      "metadata": {
        "id": "Asv8BmQvcSEc"
      },
      "source": [
        "### FAMD"
      ]
    },
    {
      "cell_type": "code",
      "metadata": {
        "id": "8ttFE1zRRnB2"
      },
      "source": [
        "#Train+Dev FAMD fit and transform\n",
        "\n",
        "import prince\n",
        "\n",
        "dropList = ['name','host_name','last_review','neighbourhood', 'host_id', 'id']\n",
        "desired_cat_attr = ['room_type','neighbourhood_group']\n",
        "#desired_cat_attr = ['room_type']\n",
        "nycAB_ready, nycAB_imputed_target, fittedColumnTransform1_tr_dev, fittedColumnTransform2_tr_dev, targetTransform_tr_dev =  df_proccessed(nycAB, nycAB_target, dropList, desired_cat_attr, full_pipeline1 = None, full_pipeline2 = None, pT = None)  \n",
        "\n",
        "fitTransfromFAMD_tr_dev = prince.FAMD(n_components = 10, n_iter=3, copy = True, engine = 'auto', random_state = randState).fit(nycAB_ready)\n",
        "nycAB_ready = fitTransfromFAMD_tr_dev.transform(nycAB_ready)"
      ],
      "execution_count": null,
      "outputs": []
    },
    {
      "cell_type": "code",
      "metadata": {
        "id": "HaUCCVL8W7Jx",
        "outputId": "63834487-0cc5-4cc3-ea61-362a1d3a94c6",
        "colab": {
          "base_uri": "https://localhost:8080/"
        }
      },
      "source": [
        "sum(fitTransfromFAMD_tr_dev.explained_inertia_)"
      ],
      "execution_count": null,
      "outputs": [
        {
          "output_type": "execute_result",
          "data": {
            "text/plain": [
              "0.9511413328166202"
            ]
          },
          "metadata": {
            "tags": []
          },
          "execution_count": 47
        }
      ]
    },
    {
      "cell_type": "code",
      "metadata": {
        "id": "jBML9BzBP0C9"
      },
      "source": [
        "#Test FAMD fit transform\n",
        "X_test_ready, Y_test_ready, _, _, _ = df_proccessed(X_test, Y_test, dropList, desired_cat_attr, full_pipeline1 = fittedColumnTransform1_tr_dev, full_pipeline2 = fittedColumnTransform2_tr_dev, pT = targetTransform_tr_dev)\n",
        "X_test_ready = fitTransfromFAMD_tr_dev.transform(X_test_ready)\n"
      ],
      "execution_count": null,
      "outputs": []
    },
    {
      "cell_type": "code",
      "metadata": {
        "id": "tcQ_lHg4bwNj"
      },
      "source": [
        "from sklearn.model_selection import train_test_split\n",
        "X_trRed, X_valid, Y_trRed, Y_valid = train_test_split(nycAB_ready, nycAB_imputed_target, test_size=0.2, random_state=randState)"
      ],
      "execution_count": null,
      "outputs": []
    },
    {
      "cell_type": "markdown",
      "metadata": {
        "id": "u_3cav9lhblM"
      },
      "source": [
        "----------------------------"
      ]
    },
    {
      "cell_type": "markdown",
      "metadata": {
        "id": "X4drSJtkS10a"
      },
      "source": [
        "## **Linear Regression** --- Plain Vanila"
      ]
    },
    {
      "cell_type": "markdown",
      "metadata": {
        "id": "NumfbJQPTrDv"
      },
      "source": [
        "### Transformation of the data on the REDUCED Training Set"
      ]
    },
    {
      "cell_type": "markdown",
      "metadata": {
        "id": "XEk0VsCpOdNY"
      },
      "source": [
        "### Training of the REDUCED Training Set  \n"
      ]
    },
    {
      "cell_type": "code",
      "metadata": {
        "id": "Cs_fl5R6TBq4",
        "outputId": "f9e442a8-74d8-46e1-eb0c-230fdd416690",
        "colab": {
          "base_uri": "https://localhost:8080/"
        }
      },
      "source": [
        "from sklearn.linear_model import LinearRegression\n",
        "from sklearn.metrics import mean_squared_error\n",
        "\n",
        "lin1_reg = LinearRegression()\n",
        "\n",
        "lin1_reg.fit(X_trRed, Y_trRed)\n",
        "Y_trRedPred_lin1 = lin1_reg.predict(X_trRed)\n",
        "lin1_trRedPred_mse = mean_squared_error(Y_trRed, Y_trRedPred_lin1)\n",
        "lin1_trRedPred_rmse = np.sqrt(lin1_trRedPred_mse)\n",
        "\n",
        "print(\"LinReg Train RMSE:\", lin1_trRedPred_rmse)"
      ],
      "execution_count": null,
      "outputs": [
        {
          "output_type": "stream",
          "text": [
            "LinReg Train RMSE: 0.7157310105800762\n"
          ],
          "name": "stdout"
        }
      ]
    },
    {
      "cell_type": "code",
      "metadata": {
        "id": "VCB7r-OuTEYS",
        "outputId": "3ee0d406-b945-421d-91b6-a2c147e95cbc",
        "colab": {
          "base_uri": "https://localhost:8080/"
        }
      },
      "source": [
        "Y_validPred_lin1 = lin1_reg.predict(X_valid)\n",
        "\n",
        "lin1_validPred_mse = mean_squared_error(Y_valid, Y_validPred_lin1)\n",
        "lin1_validPred_rmse = np.sqrt(lin1_validPred_mse)\n",
        "\n",
        "print(\"LinReg Validation RMSE:\", lin1_validPred_rmse)"
      ],
      "execution_count": null,
      "outputs": [
        {
          "output_type": "stream",
          "text": [
            "LinReg Validation RMSE: 0.7040556663620396\n"
          ],
          "name": "stdout"
        }
      ]
    },
    {
      "cell_type": "markdown",
      "metadata": {
        "id": "EIFq3oAUh5yu"
      },
      "source": [
        "## **Linear Regression** --- Plain Vanila but w/ a K-fold Cross-Validation Spice (Using entire full Training Set) \n",
        "*   The reason why we do not need validation set is defined in the definition of K-fold Cross-Validation (let's say K=6, so the training set will be randomly split into 6 folds (aka subsets), and the chosen model (now Lin Reg) will be trained and evaluated 6 times, **choosing a different fold every time** as a validation set and training on the other 5 folds.\n",
        "In this way, we could also get a glimpse of whether the training set is overfitted or not. \n",
        "\n",
        "*   By default Sklearn's CV expects a utility function instead of cost function used by Regression models' as performance measurement. So the scoring function used by Sklearn's CV has to be a negated MSE, that's why in the code you see $\\text{-lin_score}$\n",
        "\n"
      ]
    },
    {
      "cell_type": "code",
      "metadata": {
        "id": "APvrWb4XVmfk",
        "outputId": "13db7a24-60a2-4247-a1f7-0efb95d09279",
        "colab": {
          "base_uri": "https://localhost:8080/"
        }
      },
      "source": [
        "from sklearn.linear_model import LinearRegression\n",
        "from sklearn.metrics import mean_squared_error\n",
        "\n",
        "lin1_reg = LinearRegression()\n",
        "lin1_reg.fit(nycAB_ready, nycAB_imputed_target)\n",
        "Y_trPred_lin1 = lin1_reg.predict(nycAB_ready)\n",
        "lin1_trPred_mse = mean_squared_error(nycAB_imputed_target, Y_trPred_lin1)\n",
        "lin1_trPred_rmse = np.sqrt(lin1_trPred_mse)\n",
        "\n",
        "print(\"LinReg Train RMSE:\", lin1_trPred_rmse)"
      ],
      "execution_count": null,
      "outputs": [
        {
          "output_type": "stream",
          "text": [
            "LinReg Train RMSE: 0.7133749904926758\n"
          ],
          "name": "stdout"
        }
      ]
    },
    {
      "cell_type": "code",
      "metadata": {
        "id": "gYtSNAeAiUCE",
        "outputId": "14679dd0-d983-49ac-88c1-5efeef06008e",
        "colab": {
          "base_uri": "https://localhost:8080/"
        }
      },
      "source": [
        "from sklearn.model_selection import cross_val_score\n",
        "from sklearn.linear_model import LinearRegression\n",
        "from sklearn.metrics import mean_squared_error\n",
        "\n",
        "def display_scores(scores):\n",
        "  print(\"Scores:\", scores)\n",
        "  print(\"Mean:\", scores.mean())\n",
        "  print(\"Standard deviation:\", scores.std())\n",
        "\n",
        "lin1_scores = cross_val_score(lin1_reg, nycAB_ready, nycAB_imputed_target, scoring=\"neg_mean_squared_error\", cv=6)\n",
        "lin1_rmse_scores = np.sqrt(-lin1_scores)\n",
        " \n",
        "display_scores(lin1_rmse_scores)"
      ],
      "execution_count": null,
      "outputs": [
        {
          "output_type": "stream",
          "text": [
            "Scores: [0.71431087 0.70993167 0.7371339  0.7147807  0.70991486 0.69536943]\n",
            "Mean: 0.713573572267701\n",
            "Standard deviation: 0.012349967647752308\n"
          ],
          "name": "stdout"
        }
      ]
    },
    {
      "cell_type": "markdown",
      "metadata": {
        "id": "ghRndS8bNdR6"
      },
      "source": [
        "## **Linear Regression w/ Stochastic Gradient Descent** "
      ]
    },
    {
      "cell_type": "code",
      "metadata": {
        "id": "5lhxh1YgV3Aa",
        "outputId": "e9dcd72d-2363-42c6-e2dc-a9b23752fa95",
        "colab": {
          "base_uri": "https://localhost:8080/"
        }
      },
      "source": [
        "from sklearn.linear_model import SGDRegressor\n",
        "\n",
        "sgd1_reg = SGDRegressor(max_iter=1000, tol=1e-3, penalty=\"l2\", eta0=0.1, random_state = randState)\n",
        "sgd1_reg.fit(X_trRed, Y_trRed)\n",
        "Y_trPred_sgd1 = sgd1_reg.predict(X_trRed)\n",
        "sgd1_trPred_mse = mean_squared_error(Y_trRed, Y_trPred_sgd1)\n",
        "sgd1_trPred_rmse = np.sqrt(sgd1_trPred_mse)\n",
        "\n",
        "print(\"LinReg w/ SGD Train RMSE:\", sgd1_trPred_rmse)"
      ],
      "execution_count": null,
      "outputs": [
        {
          "output_type": "stream",
          "text": [
            "LinReg w/ SGD Train RMSE: 0.7206693495892222\n"
          ],
          "name": "stdout"
        }
      ]
    },
    {
      "cell_type": "code",
      "metadata": {
        "id": "L7qN5RGVV3u1",
        "outputId": "212c7268-f2ca-44e6-a48d-bb449ddbec46",
        "colab": {
          "base_uri": "https://localhost:8080/"
        }
      },
      "source": [
        "Y_validPred_sgd1 = sgd1_reg.predict(X_valid)\n",
        "\n",
        "sgd1_validPred_mse = mean_squared_error(Y_valid, Y_validPred_sgd1)\n",
        "sgd1_validPred_rmse = np.sqrt(sgd1_validPred_mse)\n",
        "\n",
        "print(\"LinReg w/ SGD Validation RMSE:\", sgd1_validPred_rmse)"
      ],
      "execution_count": null,
      "outputs": [
        {
          "output_type": "stream",
          "text": [
            "LinReg w/ SGD Validation RMSE: 0.7089645541498117\n"
          ],
          "name": "stdout"
        }
      ]
    },
    {
      "cell_type": "markdown",
      "metadata": {
        "id": "vskr2nZwWBNx"
      },
      "source": [
        ""
      ]
    },
    {
      "cell_type": "code",
      "metadata": {
        "id": "9hq7L3aRWZmp",
        "outputId": "05f55ffd-b8fe-482c-9a14-f89dc25d1d63",
        "colab": {
          "base_uri": "https://localhost:8080/"
        }
      },
      "source": [
        "sgd1_reg = SGDRegressor(max_iter=1000, tol=1e-3, penalty=\"l2\", eta0=0.1, random_state = randState)\n",
        "\n",
        "sgd1_reg.fit(nycAB_ready, nycAB_imputed_target)\n",
        "Y_trPred_sgd1 = sgd1_reg.predict(nycAB_ready)\n",
        "sgd1_trPred_mse = mean_squared_error(nycAB_imputed_target, Y_trPred_sgd1)\n",
        "sgd1_trPred_rmse = np.sqrt(sgd1_trPred_mse)\n",
        "\n",
        "print(\"LinReg w/ SGD Train RMSE:\", sgd1_trPred_rmse)"
      ],
      "execution_count": null,
      "outputs": [
        {
          "output_type": "stream",
          "text": [
            "LinReg w/ SGD Train RMSE: 0.7164311183425008\n"
          ],
          "name": "stdout"
        }
      ]
    },
    {
      "cell_type": "code",
      "metadata": {
        "id": "MVejXCs1gw-0",
        "outputId": "e2d1960b-58ae-4a1d-cb5f-a2dde31e4f91",
        "colab": {
          "base_uri": "https://localhost:8080/"
        }
      },
      "source": [
        "from sklearn.linear_model import SGDRegressor\n",
        "\n",
        "sgd1_scores = cross_val_score(sgd1_reg, nycAB_ready, nycAB_imputed_target, scoring=\"neg_mean_squared_error\", cv=6) #Cross-validation\n",
        "sgd1_rmse_scores = np.sqrt(-sgd1_scores)\n",
        " \n",
        "display_scores(sgd1_rmse_scores)"
      ],
      "execution_count": null,
      "outputs": [
        {
          "output_type": "stream",
          "text": [
            "Scores: [0.71823294 0.71583361 0.74539702 0.72284861 0.7147044  0.70610977]\n",
            "Mean: 0.7205210572543868\n",
            "Standard deviation: 0.01219943660515036\n"
          ],
          "name": "stdout"
        }
      ]
    },
    {
      "cell_type": "markdown",
      "metadata": {
        "id": "09AO7L0GibGS"
      },
      "source": [
        "## **SVM w/ Linear Kernel** \n",
        "\n"
      ]
    },
    {
      "cell_type": "code",
      "metadata": {
        "id": "3bxJOC8cYhcG",
        "outputId": "1df9efa2-fbe1-4f14-fdd9-4d6c4df190ec",
        "colab": {
          "base_uri": "https://localhost:8080/"
        }
      },
      "source": [
        "from sklearn.svm import SVR\n",
        "svmLin1_reg = SVR(kernel=\"linear\", C=1.0, epsilon=0.1)\n",
        "svmLin1_reg.fit(X_trRed, Y_trRed)\n",
        "\n",
        "Y_trPred_svmLin1 = svmLin1_reg.predict(X_trRed)\n",
        "svmLin1_trPred_mse = mean_squared_error(Y_trRed, Y_trPred_svmLin1)\n",
        "svmLin1_trPred_rmse = np.sqrt(svmLin1_trPred_mse)\n",
        " \n",
        "print(\"SVM w/ Linear Kernel Train RMSE:\", svmLin1_trPred_rmse)"
      ],
      "execution_count": null,
      "outputs": [
        {
          "output_type": "stream",
          "text": [
            "SVM w/ Linear Kernel Train RMSE: 0.7177887922211652\n"
          ],
          "name": "stdout"
        }
      ]
    },
    {
      "cell_type": "code",
      "metadata": {
        "id": "cVFs_yMMYg8V",
        "outputId": "8aaf2663-3536-45a6-a12e-247afbf74adc",
        "colab": {
          "base_uri": "https://localhost:8080/"
        }
      },
      "source": [
        "Y_validPred_svmLin1 = svmLin1_reg.predict(X_valid)\n",
        "\n",
        "svmLin1_validPred_mse = mean_squared_error(Y_valid, Y_validPred_svmLin1)\n",
        "svmLin1_validPred_rmse = np.sqrt(svmLin1_validPred_mse)\n",
        "\n",
        "print(\"SVM w/ Linear Kernel Validation RMSE:\", svmLin1_validPred_rmse)"
      ],
      "execution_count": null,
      "outputs": [
        {
          "output_type": "stream",
          "text": [
            "SVM w/ Linear Kernel Validation RMSE: 0.7066529601114949\n"
          ],
          "name": "stdout"
        }
      ]
    },
    {
      "cell_type": "markdown",
      "metadata": {
        "id": "dNQcFy0XrKX6"
      },
      "source": [
        "## **SVM w/ Linear Kernel** --- w/ Cross-Validation "
      ]
    },
    {
      "cell_type": "code",
      "metadata": {
        "id": "MfST3aJIY97b",
        "outputId": "4b673e27-c39d-4f6c-a43b-bbe906e0811c",
        "colab": {
          "base_uri": "https://localhost:8080/"
        }
      },
      "source": [
        "from sklearn.svm import SVR\n",
        "svmLin1_reg = SVR(kernel=\"linear\", C=1.0, epsilon=0.1)\n",
        "svmLin1_reg.fit(nycAB_ready, nycAB_imputed_target)\n",
        "\n",
        "Y_trPred_svmLin1 = svmLin1_reg.predict(nycAB_ready)\n",
        "svmLin1_trPred_mse = mean_squared_error(nycAB_imputed_target, Y_trPred_svmLin1)\n",
        "svmLin1_trPred_rmse = np.sqrt(svmLin1_trPred_mse)\n",
        " \n",
        "print(\"SVM w/ Linear Kernel Train RMSE:\", svmLin1_trPred_rmse)"
      ],
      "execution_count": null,
      "outputs": [
        {
          "output_type": "stream",
          "text": [
            "SVM w/ Linear Kernel Train RMSE: 0.715607774593352\n"
          ],
          "name": "stdout"
        }
      ]
    },
    {
      "cell_type": "code",
      "metadata": {
        "id": "lNZOUpnsrdvX",
        "outputId": "608d43f4-17a5-45c2-eff3-623a4f9aaf66",
        "colab": {
          "base_uri": "https://localhost:8080/"
        }
      },
      "source": [
        "from sklearn.model_selection import cross_val_score\n",
        "from sklearn.svm import SVR\n",
        "\n",
        "svmLin1_scores = cross_val_score(svmLin1_reg, nycAB_ready, nycAB_imputed_target, scoring=\"neg_mean_squared_error\", cv=6)\n",
        "svmLin1_rmse_scores = np.sqrt(-svmLin1_scores)\n",
        " \n",
        "display_scores(svmLin1_rmse_scores)"
      ],
      "execution_count": null,
      "outputs": [
        {
          "output_type": "stream",
          "text": [
            "Scores: [0.71781076 0.71192029 0.73870672 0.71722288 0.7126322  0.69643339]\n",
            "Mean: 0.7157877055544688\n",
            "Standard deviation: 0.012456172016658914\n"
          ],
          "name": "stdout"
        }
      ]
    },
    {
      "cell_type": "markdown",
      "metadata": {
        "id": "35Q3mqeb56c0"
      },
      "source": [
        "## **SVM w/ Gaussian Kernel** "
      ]
    },
    {
      "cell_type": "markdown",
      "metadata": {
        "id": "xTKcV-_Q6AIv"
      },
      "source": [
        "### Training of the REDUCED Training Set  "
      ]
    },
    {
      "cell_type": "code",
      "metadata": {
        "id": "iraAV7o054fV",
        "outputId": "ed70c8eb-daf8-4de8-a214-b8c6ed2d8d2f",
        "colab": {
          "base_uri": "https://localhost:8080/"
        }
      },
      "source": [
        "svmGauss1 = SVR(kernel=\"rbf\", degree = 3, C=1.0, epsilon=0.1)\n",
        "svmGauss1.fit(X_trRed, Y_trRed)\n",
        "\n",
        "Y_trPred_svmGauss1 = svmGauss1.predict(X_trRed)\n",
        "svmGauss1_trPred_mse = mean_squared_error(Y_trRed, Y_trPred_svmGauss1)\n",
        "svmGauss1_trPred_rmse = np.sqrt(svmGauss1_trPred_mse)\n",
        "\n",
        "print(\"SVM w/ Gaussian Kernel (deg=3) Train RMSE:\", svmGauss1_trPred_rmse)"
      ],
      "execution_count": null,
      "outputs": [
        {
          "output_type": "stream",
          "text": [
            "SVM w/ Gaussian Kernel (deg=3) Train RMSE: 0.6552090796153454\n"
          ],
          "name": "stdout"
        }
      ]
    },
    {
      "cell_type": "markdown",
      "metadata": {
        "id": "jjAoSYfL6BPI"
      },
      "source": [
        "### Evaluation on the Validation Set\n"
      ]
    },
    {
      "cell_type": "code",
      "metadata": {
        "id": "CmOqbVGE6B8j",
        "outputId": "6b934442-5850-4179-a7cc-a62b01c9f7b3",
        "colab": {
          "base_uri": "https://localhost:8080/"
        }
      },
      "source": [
        "Y_validPred_svmGauss1 = svmGauss1.predict(X_valid)\n",
        "\n",
        "svmGauss1_validPred_mse = mean_squared_error(Y_valid, Y_validPred_svmGauss1)\n",
        "svmGauss1_validPred_rmse = np.sqrt(svmGauss1_validPred_mse)\n",
        "\n",
        "print(\"SVM w/ Gaussian Kernel (deg=3) Validation RMSE:\", svmGauss1_validPred_rmse)"
      ],
      "execution_count": null,
      "outputs": [
        {
          "output_type": "stream",
          "text": [
            "SVM w/ Gaussian Kernel (deg=3) Validation RMSE: 0.6514464838212108\n"
          ],
          "name": "stdout"
        }
      ]
    },
    {
      "cell_type": "code",
      "metadata": {
        "id": "96MysIl688UV",
        "outputId": "4827de2d-4438-44c4-9ae7-b9764a442e3d",
        "colab": {
          "base_uri": "https://localhost:8080/"
        }
      },
      "source": [
        "svmGauss1 = SVR(kernel=\"rbf\", degree = 3, C=1.0, epsilon=0.1)\n",
        "svmGauss1.fit(nycAB_ready, nycAB_imputed_target)\n",
        "\n",
        "Y_trPred_svmGauss1 = svmGauss1.predict(nycAB_ready)\n",
        "svmGauss1_trPred_mse = mean_squared_error(nycAB_imputed_target, Y_trPred_svmGauss1)\n",
        "svmGauss1_trPred_rmse = np.sqrt(svmGauss1_trPred_mse)\n",
        "\n",
        "print(\"SVM w/ Gaussian Kernel (deg=3) Train RMSE:\", svmGauss1_trPred_rmse)"
      ],
      "execution_count": null,
      "outputs": [
        {
          "output_type": "stream",
          "text": [
            "SVM w/ Gaussian Kernel (deg=3) Train RMSE: 0.6528716592626351\n"
          ],
          "name": "stdout"
        }
      ]
    },
    {
      "cell_type": "code",
      "metadata": {
        "id": "5Lu4fSg09CnA",
        "outputId": "a0a7e0ee-893a-416f-ac0d-7af2061c4123",
        "colab": {
          "base_uri": "https://localhost:8080/"
        }
      },
      "source": [
        "from sklearn.model_selection import cross_val_score\n",
        "from sklearn.svm import SVR\n",
        "\n",
        "svmGauss1_scores = cross_val_score(svmGauss1, nycAB_ready, nycAB_imputed_target, scoring=\"neg_mean_squared_error\", cv=6)\n",
        "svmGauss1_rmse_scores = np.sqrt(-svmGauss1_scores)\n",
        " \n",
        "display_scores(svmGauss1_rmse_scores)"
      ],
      "execution_count": null,
      "outputs": [
        {
          "output_type": "stream",
          "text": [
            "Scores: [0.66314507 0.66247948 0.68526563 0.66203592 0.65263616 0.63897337]\n",
            "Mean: 0.6607559386433977\n",
            "Standard deviation: 0.013853115738810687\n"
          ],
          "name": "stdout"
        }
      ]
    },
    {
      "cell_type": "markdown",
      "metadata": {
        "id": "TY80OtlZPNz7"
      },
      "source": [
        "## **RandomForest** --- Plain Vanila"
      ]
    },
    {
      "cell_type": "markdown",
      "metadata": {
        "id": "czzoGIvzbkcA"
      },
      "source": [
        "### Training of the REDUCED Training Set  "
      ]
    },
    {
      "cell_type": "code",
      "metadata": {
        "id": "yt8L9RPHbPH6",
        "outputId": "8221a8a0-f18c-4465-9dbf-0a61cb6c40f3",
        "colab": {
          "base_uri": "https://localhost:8080/"
        }
      },
      "source": [
        "from sklearn.ensemble import RandomForestRegressor\n",
        "\n",
        "RF1_reg = RandomForestRegressor(n_estimators=100, random_state= randState)\n",
        "RF1_reg.fit(X_trRed, Y_trRed)\n",
        "\n",
        "Y_trPred_RF1 = RF1_reg.predict(X_trRed)\n",
        "RF1_trPred_mse = mean_squared_error(Y_trRed, Y_trPred_RF1)\n",
        "RF1_trPred_rmse = np.sqrt(RF1_trPred_mse)\n",
        "\n",
        "print(\"RF Vanila Train RMSE:\", RF1_trPred_rmse)"
      ],
      "execution_count": null,
      "outputs": [
        {
          "output_type": "stream",
          "text": [
            "RF Vanila Train RMSE: 0.2551333204697651\n"
          ],
          "name": "stdout"
        }
      ]
    },
    {
      "cell_type": "markdown",
      "metadata": {
        "id": "-BalUHjwdnhR"
      },
      "source": [
        "### Evaluation on the Validation Set\n"
      ]
    },
    {
      "cell_type": "code",
      "metadata": {
        "id": "9Y1JUZpKd7uK",
        "outputId": "8073ab34-533a-48cc-d6d0-311d4814b9c8",
        "colab": {
          "base_uri": "https://localhost:8080/"
        }
      },
      "source": [
        "Y_validPred_RF1 = RF1_reg.predict(X_valid)\n",
        "\n",
        "RF1_validPred_mse = mean_squared_error(Y_valid, Y_validPred_RF1)\n",
        "RF1_validPred_rmse = np.sqrt(RF1_validPred_mse)\n",
        "\n",
        "print(\"RF Vanila Validation RMSE:\", RF1_validPred_rmse)"
      ],
      "execution_count": null,
      "outputs": [
        {
          "output_type": "stream",
          "text": [
            "RF Vanila Validation RMSE: 0.6768420616142578\n"
          ],
          "name": "stdout"
        }
      ]
    },
    {
      "cell_type": "markdown",
      "metadata": {
        "id": "zG8alEJCfsWp"
      },
      "source": [
        "#### The Plain RandomForest seems to overfit badly, that is, it performs much worse on the validation set. \n",
        "\n",
        "Now let's look at it using Cross-Validation (also using the full training set)"
      ]
    },
    {
      "cell_type": "code",
      "metadata": {
        "id": "Zd-C7RbK-k5b",
        "outputId": "bd5ce972-7b4f-45f5-f4fa-ef2c8a430b3b",
        "colab": {
          "base_uri": "https://localhost:8080/"
        }
      },
      "source": [
        "from sklearn.ensemble import RandomForestRegressor\n",
        "\n",
        "RF1_reg = RandomForestRegressor(n_estimators=100, random_state= randState)\n",
        "RF1_reg.fit(nycAB_ready, nycAB_imputed_target)\n",
        "\n",
        "Y_trPred_RF1 = RF1_reg.predict(nycAB_ready)\n",
        "RF1_trPred_mse = mean_squared_error(nycAB_imputed_target, Y_trPred_RF1)\n",
        "RF1_trPred_rmse = np.sqrt(RF1_trPred_mse)\n",
        "\n",
        "print(\"RF Vanila Train RMSE:\", RF1_trPred_rmse)"
      ],
      "execution_count": null,
      "outputs": [
        {
          "output_type": "stream",
          "text": [
            "RF Vanila Train RMSE: 0.2544724975935045\n"
          ],
          "name": "stdout"
        }
      ]
    },
    {
      "cell_type": "code",
      "metadata": {
        "id": "jdqH9WCrgVeB",
        "outputId": "c5abdd11-b524-47c6-a137-8df338d51a41",
        "colab": {
          "base_uri": "https://localhost:8080/"
        }
      },
      "source": [
        "from sklearn.model_selection import cross_val_score\n",
        "\n",
        "RF1_scores = cross_val_score(RF1_reg, nycAB_ready, nycAB_imputed_target, scoring=\"neg_mean_squared_error\", cv=6)\n",
        "RF1_rmse_scores = np.sqrt(-RF1_scores)\n",
        " \n",
        "display_scores(RF1_rmse_scores)"
      ],
      "execution_count": null,
      "outputs": [
        {
          "output_type": "stream",
          "text": [
            "Scores: [0.66920712 0.68048863 0.69680488 0.68360077 0.66486274 0.66312498]\n",
            "Mean: 0.676348186497388\n",
            "Standard deviation: 0.011874223093532298\n"
          ],
          "name": "stdout"
        }
      ]
    },
    {
      "cell_type": "markdown",
      "metadata": {
        "id": "FHwW7Rgv2Okn"
      },
      "source": [
        "## **RandomForest** --- with parameters "
      ]
    },
    {
      "cell_type": "code",
      "metadata": {
        "id": "CaHeEFZZ2Wjx",
        "outputId": "544934e4-3475-4385-c2ea-320d92c50f67",
        "colab": {
          "base_uri": "https://localhost:8080/"
        }
      },
      "source": [
        "RF2_reg = RandomForestRegressor(n_estimators=100, max_depth=4, max_leaf_nodes = 10 , n_jobs = -1, random_state = randState, bootstrap = True)\n",
        "RF2_reg.fit(X_trRed, Y_trRed)\n",
        "\n",
        "Y_trPred_RF2 = RF2_reg.predict(X_trRed)\n",
        "RF2_trPred_mse = mean_squared_error(Y_trRed, Y_trPred_RF2)\n",
        "RF2_trPred_rmse = np.sqrt(RF2_trPred_mse)\n",
        "\n",
        "print(\"RF w/ parameters Train RMSE:\", RF2_trPred_rmse)"
      ],
      "execution_count": null,
      "outputs": [
        {
          "output_type": "stream",
          "text": [
            "RF w/ parameters Train RMSE: 0.754017615688587\n"
          ],
          "name": "stdout"
        }
      ]
    },
    {
      "cell_type": "code",
      "metadata": {
        "id": "kizQ782z2WXu",
        "outputId": "b2591e69-06b2-4ca8-992e-a0b58084582f",
        "colab": {
          "base_uri": "https://localhost:8080/"
        }
      },
      "source": [
        "Y_validPred_RF2 = RF2_reg.predict(X_valid)\n",
        "\n",
        "RF2_validPred_mse = mean_squared_error(Y_valid, Y_validPred_RF2)\n",
        "RF2_validPred_rmse = np.sqrt(RF2_validPred_mse)\n",
        "\n",
        "print(\"RF w/ parameters Validation RMSE:\", RF2_validPred_rmse)"
      ],
      "execution_count": null,
      "outputs": [
        {
          "output_type": "stream",
          "text": [
            "RF w/ parameters Validation RMSE: 0.7488740832462979\n"
          ],
          "name": "stdout"
        }
      ]
    },
    {
      "cell_type": "code",
      "metadata": {
        "id": "IvoR_-9l-2uH",
        "outputId": "b9a44381-aa74-4e96-c12c-10eb4001b43b",
        "colab": {
          "base_uri": "https://localhost:8080/"
        }
      },
      "source": [
        "from sklearn.ensemble import RandomForestRegressor\n",
        "\n",
        "RF2_reg = RandomForestRegressor(n_estimators=100, max_depth=4, max_leaf_nodes = 10 , n_jobs = -1, random_state = randState, bootstrap = True)\n",
        "RF2_reg.fit(nycAB_ready, nycAB_imputed_target)\n",
        "\n",
        "Y_trPred_RF2 = RF2_reg.predict(nycAB_ready)\n",
        "RF2_trPred_mse = mean_squared_error(nycAB_imputed_target, Y_trPred_RF2)\n",
        "RF2_trPred_rmse = np.sqrt(RF2_trPred_mse)\n",
        "\n",
        "print(\"RF w/ parameters Train RMSE:\", RF2_trPred_rmse)"
      ],
      "execution_count": null,
      "outputs": [
        {
          "output_type": "stream",
          "text": [
            "RF w/ parameters Train RMSE: 0.7558283968256941\n"
          ],
          "name": "stdout"
        }
      ]
    },
    {
      "cell_type": "code",
      "metadata": {
        "id": "KxiHaP_k2No4",
        "outputId": "3b297c38-d5fe-43ec-838e-23842a4dce88",
        "colab": {
          "base_uri": "https://localhost:8080/"
        }
      },
      "source": [
        "RF2_scores = cross_val_score(RF2_reg, nycAB_ready, nycAB_imputed_target, scoring=\"neg_mean_squared_error\", cv=6)\n",
        "RF2_rmse_scores = np.sqrt(-RF2_scores)\n",
        " \n",
        "display_scores(RF2_rmse_scores)"
      ],
      "execution_count": null,
      "outputs": [
        {
          "output_type": "stream",
          "text": [
            "Scores: [0.75146973 0.75206104 0.77536029 0.75848861 0.75703437 0.74279928]\n",
            "Mean: 0.7562022204418849\n",
            "Standard deviation: 0.009934252009499923\n"
          ],
          "name": "stdout"
        }
      ]
    },
    {
      "cell_type": "markdown",
      "metadata": {
        "id": "p3wYbZh6eZoe"
      },
      "source": [
        "## **Voting Regression**\n",
        "The following regressions will be used in Voting Regressions \n",
        "\n",
        "*   Linear Regression (lin1_reg)\n",
        "*   SVM w/ RBF kernel (svmGauss1)\n",
        "*   Random Forest (RF2_reg)\n"
      ]
    },
    {
      "cell_type": "code",
      "metadata": {
        "id": "_fr5gDnkeeg3",
        "outputId": "93537346-c116-4f3a-e7f1-1fa19fcf41c1",
        "colab": {
          "base_uri": "https://localhost:8080/"
        }
      },
      "source": [
        "from sklearn.ensemble import VotingRegressor\n",
        "voting1_reg = VotingRegressor(\n",
        "    estimators = [('lr', lin1_reg), ('svmGauss', svmGauss1), ('RF', RF2_reg)])\n",
        "\n",
        "voting1_reg.fit(X_trRed, Y_trRed)\n",
        "\n",
        "Y_trPred_voting1 = voting1_reg.predict(X_trRed)\n",
        "voting1_trPred_mse = mean_squared_error(Y_trRed, Y_trPred_voting1)\n",
        "voting1_trPred_rmse = np.sqrt(voting1_trPred_mse)\n",
        "\n",
        "print(\"Voting Regression Train RMSE:\", voting1_trPred_rmse)"
      ],
      "execution_count": null,
      "outputs": [
        {
          "output_type": "stream",
          "text": [
            "Voting Regression Train RMSE: 0.6873127275349056\n"
          ],
          "name": "stdout"
        }
      ]
    },
    {
      "cell_type": "code",
      "metadata": {
        "id": "k7f8Iy6mefft",
        "outputId": "143a4404-8f4c-43f5-ae8f-25d92b91a922",
        "colab": {
          "base_uri": "https://localhost:8080/"
        }
      },
      "source": [
        "Y_validPred_voting1 = voting1_reg.predict(X_valid)\n",
        "\n",
        "voting1_validPred_mse = mean_squared_error(Y_valid, Y_validPred_voting1)\n",
        "voting1_validPred_rmse = np.sqrt(voting1_validPred_mse)\n",
        "\n",
        "print(\"voting1 Validation RMSE:\", voting1_validPred_rmse)"
      ],
      "execution_count": null,
      "outputs": [
        {
          "output_type": "stream",
          "text": [
            "voting1 Validation RMSE: 0.6793500118739729\n"
          ],
          "name": "stdout"
        }
      ]
    },
    {
      "cell_type": "code",
      "metadata": {
        "id": "NB7rhoVF_9ZN",
        "outputId": "432dd9cd-6664-42f0-eeef-2e95aaa7e501",
        "colab": {
          "base_uri": "https://localhost:8080/"
        }
      },
      "source": [
        "from sklearn.ensemble import VotingRegressor\n",
        "voting1_reg = VotingRegressor(\n",
        "    estimators = [('lr', lin1_reg), ('svmGauss', svmGauss1), ('RF', RF2_reg)])\n",
        "\n",
        "voting1_reg.fit(nycAB_ready, nycAB_imputed_target)\n",
        "\n",
        "Y_trPred_voting1 = voting1_reg.predict(nycAB_ready)\n",
        "voting1_trPred_mse = mean_squared_error(nycAB_imputed_target, Y_trPred_voting1)\n",
        "voting1_trPred_rmse = np.sqrt(voting1_trPred_mse)\n",
        "\n",
        "print(\"Voting Regression Train RMSE:\", voting1_trPred_rmse)"
      ],
      "execution_count": null,
      "outputs": [
        {
          "output_type": "stream",
          "text": [
            "Voting Regression Train RMSE: 0.6853349875366807\n"
          ],
          "name": "stdout"
        }
      ]
    },
    {
      "cell_type": "code",
      "metadata": {
        "id": "uVMhuPswefHs",
        "outputId": "a1e22a9d-34ad-43d9-fa1e-86bd5e0d465d",
        "colab": {
          "base_uri": "https://localhost:8080/"
        }
      },
      "source": [
        "voting1_scores = cross_val_score(voting1_reg, nycAB_ready, nycAB_imputed_target, scoring=\"neg_mean_squared_error\", cv=6)\n",
        "voting1_rmse_scores = np.sqrt(-voting1_scores)\n",
        " \n",
        "display_scores(voting1_rmse_scores)"
      ],
      "execution_count": null,
      "outputs": [
        {
          "output_type": "stream",
          "text": [
            "Scores: [0.68762607 0.68667495 0.711096   0.69159361 0.68457703 0.66951371]\n",
            "Mean: 0.6885135588689035\n",
            "Standard deviation: 0.01224820949134161\n"
          ],
          "name": "stdout"
        }
      ]
    },
    {
      "cell_type": "markdown",
      "metadata": {
        "id": "mX_rTGweekV4"
      },
      "source": [
        "## **Bagging and Pasting**\n",
        "\n"
      ]
    },
    {
      "cell_type": "code",
      "metadata": {
        "id": "eMTNntf4emo_",
        "outputId": "a0b02d3f-aafb-40cc-ef66-2c3fc479c172",
        "colab": {
          "base_uri": "https://localhost:8080/"
        }
      },
      "source": [
        "from sklearn.ensemble import BaggingRegressor\n",
        "from sklearn.tree import DecisionTreeRegressor\n",
        "\n",
        "bagging1_reg = BaggingRegressor(\n",
        "    DecisionTreeRegressor(), n_estimators = 100, max_samples = 100, bootstrap = True, n_jobs = - 1\n",
        ")\n",
        "\n",
        "bagging1_reg.fit(X_trRed, Y_trRed)\n",
        "\n",
        "Y_trPred_bagging1 = bagging1_reg.predict(X_trRed)\n",
        "bagging1_trPred_mse = mean_squared_error(Y_trRed, Y_trPred_bagging1)\n",
        "bagging1_trPred_rmse = np.sqrt(bagging1_trPred_mse)\n",
        "\n",
        "print(\"Bagging Regression Train RMSE:\", bagging1_trPred_rmse)"
      ],
      "execution_count": null,
      "outputs": [
        {
          "output_type": "stream",
          "text": [
            "Bagging Regression Train RMSE: 0.7234363231108275\n"
          ],
          "name": "stdout"
        }
      ]
    },
    {
      "cell_type": "code",
      "metadata": {
        "id": "HBQJk80Yenp8",
        "outputId": "0e24191a-837a-438d-cb36-cad0ae03c7c7",
        "colab": {
          "base_uri": "https://localhost:8080/"
        }
      },
      "source": [
        "Y_validPred_bagging1 = bagging1_reg.predict(X_valid)\n",
        "\n",
        "bagging1_validPred_mse = mean_squared_error(Y_valid, Y_validPred_bagging1)\n",
        "bagging1_validPred_rmse = np.sqrt(bagging1_validPred_mse)\n",
        "\n",
        "print(\"Bagging Validation RMSE:\", bagging1_validPred_rmse)"
      ],
      "execution_count": null,
      "outputs": [
        {
          "output_type": "stream",
          "text": [
            "Bagging Validation RMSE: 0.714803401823836\n"
          ],
          "name": "stdout"
        }
      ]
    },
    {
      "cell_type": "code",
      "metadata": {
        "id": "O1YZ9QryAJ1P",
        "outputId": "2d2a5839-481d-4ea3-ca56-54d7cd98f7cf",
        "colab": {
          "base_uri": "https://localhost:8080/"
        }
      },
      "source": [
        "from sklearn.ensemble import BaggingRegressor\n",
        "bagging1_reg = BaggingRegressor(\n",
        "    DecisionTreeRegressor(), n_estimators = 100, max_samples = 100, bootstrap = True, n_jobs = - 1\n",
        ")\n",
        "\n",
        "bagging1_reg.fit(nycAB_ready, nycAB_imputed_target)\n",
        "\n",
        "Y_trPred_bagging1 = bagging1_reg.predict(nycAB_ready)\n",
        "bagging1_trPred_mse = mean_squared_error(nycAB_imputed_target, Y_trPred_bagging1)\n",
        "bagging1_trPred_rmse = np.sqrt(bagging1_trPred_mse)\n",
        "\n",
        "print(\"Bagging Regression Train RMSE:\", bagging1_trPred_rmse)"
      ],
      "execution_count": null,
      "outputs": [
        {
          "output_type": "stream",
          "text": [
            "Bagging Regression Train RMSE: 0.7231398608863592\n"
          ],
          "name": "stdout"
        }
      ]
    },
    {
      "cell_type": "code",
      "metadata": {
        "id": "P_dvI15Tenbe",
        "outputId": "577aaedf-6a77-4621-9510-6d6f71bdb1de",
        "colab": {
          "base_uri": "https://localhost:8080/"
        }
      },
      "source": [
        "bagging1_scores = cross_val_score(bagging1_reg, nycAB_ready, nycAB_imputed_target, scoring=\"neg_mean_squared_error\", cv=6)\n",
        "bagging1_rmse_scores = np.sqrt(-bagging1_scores)\n",
        " \n",
        "display_scores(bagging1_rmse_scores)"
      ],
      "execution_count": null,
      "outputs": [
        {
          "output_type": "stream",
          "text": [
            "Scores: [0.72188255 0.72369431 0.74539202 0.72302767 0.721977   0.71031354]\n",
            "Mean: 0.7243811811823191\n",
            "Standard deviation: 0.010437758295881183\n"
          ],
          "name": "stdout"
        }
      ]
    },
    {
      "cell_type": "markdown",
      "metadata": {
        "id": "rQnWPhMsh5dN"
      },
      "source": [
        "## **Gradient Boosting - XGBoost** --- Vanila"
      ]
    },
    {
      "cell_type": "code",
      "metadata": {
        "id": "JgL1qLdlh2mC",
        "outputId": "48df89b3-de5a-4c7d-8fe2-00abef53b8b8",
        "colab": {
          "base_uri": "https://localhost:8080/"
        }
      },
      "source": [
        "import xgboost as xgb\n",
        "\n",
        "xgb1_reg = xgb.XGBRegressor()\n",
        "xgb1_reg.fit(X_trRed, Y_trRed)\n",
        "\n",
        "Y_trPred_xgb1 = xgb1_reg.predict(X_trRed)\n",
        "xgb1_trPred_mse = mean_squared_error(Y_trRed, Y_trPred_xgb1)\n",
        "xgb1_trPred_rmse = np.sqrt(xgb1_trPred_mse)\n",
        "\n",
        "print(\"XGB Vanila Regression Train RMSE:\", xgb1_trPred_rmse)"
      ],
      "execution_count": null,
      "outputs": [
        {
          "output_type": "stream",
          "text": [
            "[18:09:53] WARNING: /workspace/src/objective/regression_obj.cu:152: reg:linear is now deprecated in favor of reg:squarederror.\n",
            "XGB Vanila Regression Train RMSE: 0.6737214346784536\n"
          ],
          "name": "stdout"
        }
      ]
    },
    {
      "cell_type": "code",
      "metadata": {
        "id": "vzYdrkkHh-AN",
        "outputId": "7c6bd029-9c70-47d1-835b-19147855e0ab",
        "colab": {
          "base_uri": "https://localhost:8080/"
        }
      },
      "source": [
        "Y_validPred_xgb1 = xgb1_reg.predict(X_valid)\n",
        "\n",
        "xgb1_validPred_mse = mean_squared_error(Y_valid, Y_validPred_xgb1)\n",
        "xgb1_validPred_rmse = np.sqrt(xgb1_validPred_mse)\n",
        "\n",
        "print(\"XGB Vanila Validation RMSE:\", xgb1_validPred_rmse)"
      ],
      "execution_count": null,
      "outputs": [
        {
          "output_type": "stream",
          "text": [
            "XGB Vanila Validation RMSE: 0.6742207220821189\n"
          ],
          "name": "stdout"
        }
      ]
    },
    {
      "cell_type": "code",
      "metadata": {
        "id": "04127PaMh-5l",
        "outputId": "52fc8146-d5da-4124-927b-cc4d311395c4",
        "colab": {
          "base_uri": "https://localhost:8080/"
        }
      },
      "source": [
        "xgb1_scores = cross_val_score(xgb1_reg, nycAB_ready, nycAB_imputed_target, scoring=\"neg_mean_squared_error\", cv=6)\n",
        "xgb1_rmse_scores = np.sqrt(-xgb1_scores)\n",
        " \n",
        "display_scores(xgb1_rmse_scores)"
      ],
      "execution_count": null,
      "outputs": [
        {
          "output_type": "stream",
          "text": [
            "[18:09:56] WARNING: /workspace/src/objective/regression_obj.cu:152: reg:linear is now deprecated in favor of reg:squarederror.\n",
            "[18:09:59] WARNING: /workspace/src/objective/regression_obj.cu:152: reg:linear is now deprecated in favor of reg:squarederror.\n",
            "[18:10:02] WARNING: /workspace/src/objective/regression_obj.cu:152: reg:linear is now deprecated in favor of reg:squarederror.\n",
            "[18:10:05] WARNING: /workspace/src/objective/regression_obj.cu:152: reg:linear is now deprecated in favor of reg:squarederror.\n",
            "[18:10:08] WARNING: /workspace/src/objective/regression_obj.cu:152: reg:linear is now deprecated in favor of reg:squarederror.\n",
            "[18:10:11] WARNING: /workspace/src/objective/regression_obj.cu:152: reg:linear is now deprecated in favor of reg:squarederror.\n",
            "Scores: [0.68302935 0.68118738 0.7075467  0.68502829 0.68021254 0.66587734]\n",
            "Mean: 0.6838135999089969\n",
            "Standard deviation: 0.012294475885092639\n"
          ],
          "name": "stdout"
        }
      ]
    },
    {
      "cell_type": "markdown",
      "metadata": {
        "id": "Co5eOsokjIan"
      },
      "source": [
        "## **Gradient Boosting - XGBoost** --- with Parameters"
      ]
    },
    {
      "cell_type": "code",
      "metadata": {
        "id": "0viJhQssjJdH",
        "outputId": "1557c479-005a-4c28-a717-dc345dd2274b",
        "colab": {
          "base_uri": "https://localhost:8080/"
        }
      },
      "source": [
        "xgb2_reg = xgb.XGBRegressor(max_depth=4, learning_rate = 0.1, n_estimators=200, booster = 'gbtree')\n",
        "xgb2_reg.fit(X_trRed, Y_trRed)\n",
        "\n",
        "Y_trPred_xgb2 = xgb2_reg.predict(X_trRed)\n",
        "xgb2_trPred_mse = mean_squared_error(Y_trRed, Y_trPred_xgb2)\n",
        "xgb2_trPred_rmse = np.sqrt(xgb2_trPred_mse)\n",
        "\n",
        "print(\"XGB2 Regression Train RMSE:\", xgb2_trPred_rmse)"
      ],
      "execution_count": null,
      "outputs": [
        {
          "output_type": "stream",
          "text": [
            "[18:10:14] WARNING: /workspace/src/objective/regression_obj.cu:152: reg:linear is now deprecated in favor of reg:squarederror.\n",
            "XGB2 Regression Train RMSE: 0.6328568078268494\n"
          ],
          "name": "stdout"
        }
      ]
    },
    {
      "cell_type": "code",
      "metadata": {
        "id": "2PKpG-mhjIz2",
        "outputId": "354874c6-c04d-47f3-cf0b-40a556e802d3",
        "colab": {
          "base_uri": "https://localhost:8080/"
        }
      },
      "source": [
        "Y_validPred_xgb2 = xgb2_reg.predict(X_valid)\n",
        "\n",
        "xgb2_validPred_mse = mean_squared_error(Y_valid, Y_validPred_xgb2)\n",
        "xgb2_validPred_rmse = np.sqrt(xgb2_validPred_mse)\n",
        "\n",
        "print(\"XGB2 Validation RMSE:\", xgb2_validPred_rmse)"
      ],
      "execution_count": null,
      "outputs": [
        {
          "output_type": "stream",
          "text": [
            "XGB2 Validation RMSE: 0.6628839667779742\n"
          ],
          "name": "stdout"
        }
      ]
    },
    {
      "cell_type": "code",
      "metadata": {
        "id": "5meT1mFmAcec",
        "outputId": "1a1937ef-1639-4e63-af34-7e5e7f4b1827",
        "colab": {
          "base_uri": "https://localhost:8080/"
        }
      },
      "source": [
        "xgb2_reg = xgb.XGBRegressor(max_depth=4, learning_rate = 0.1, n_estimators=200, booster = 'gbtree')\n",
        "xgb2_reg.fit(nycAB_ready, nycAB_imputed_target)\n",
        "\n",
        "Y_trPred_xgb2 = xgb2_reg.predict(nycAB_ready)\n",
        "xgb2_trPred_mse = mean_squared_error(nycAB_imputed_target, Y_trPred_xgb2)\n",
        "xgb2_trPred_rmse = np.sqrt(xgb2_trPred_mse)\n",
        "\n",
        "print(\"XGB2 Regression Train RMSE:\", xgb2_trPred_rmse)"
      ],
      "execution_count": null,
      "outputs": [
        {
          "output_type": "stream",
          "text": [
            "[18:10:22] WARNING: /workspace/src/objective/regression_obj.cu:152: reg:linear is now deprecated in favor of reg:squarederror.\n",
            "XGB2 Regression Train RMSE: 0.6364448792530282\n"
          ],
          "name": "stdout"
        }
      ]
    },
    {
      "cell_type": "code",
      "metadata": {
        "id": "IJ7t0rOjjICl",
        "outputId": "d8a9dbe7-566a-429d-8ae5-85e4298ad8d1",
        "colab": {
          "base_uri": "https://localhost:8080/"
        }
      },
      "source": [
        "xgb2_scores = cross_val_score(xgb2_reg, nycAB_ready, nycAB_imputed_target, scoring=\"neg_mean_squared_error\", cv=6)\n",
        "xgb2_rmse_scores = np.sqrt(-xgb2_scores)\n",
        " \n",
        "display_scores(xgb2_rmse_scores)"
      ],
      "execution_count": null,
      "outputs": [
        {
          "output_type": "stream",
          "text": [
            "[18:10:31] WARNING: /workspace/src/objective/regression_obj.cu:152: reg:linear is now deprecated in favor of reg:squarederror.\n",
            "[18:10:39] WARNING: /workspace/src/objective/regression_obj.cu:152: reg:linear is now deprecated in favor of reg:squarederror.\n",
            "[18:10:49] WARNING: /workspace/src/objective/regression_obj.cu:152: reg:linear is now deprecated in favor of reg:squarederror.\n",
            "[18:10:57] WARNING: /workspace/src/objective/regression_obj.cu:152: reg:linear is now deprecated in favor of reg:squarederror.\n",
            "[18:11:05] WARNING: /workspace/src/objective/regression_obj.cu:152: reg:linear is now deprecated in favor of reg:squarederror.\n",
            "[18:11:12] WARNING: /workspace/src/objective/regression_obj.cu:152: reg:linear is now deprecated in favor of reg:squarederror.\n",
            "Scores: [0.67087564 0.67002924 0.69471937 0.67312296 0.66526049 0.65144329]\n",
            "Mean: 0.6709084983660775\n",
            "Standard deviation: 0.012802538737127205\n"
          ],
          "name": "stdout"
        }
      ]
    },
    {
      "cell_type": "markdown",
      "metadata": {
        "id": "o9YOvKD0gKcy"
      },
      "source": [
        "# **Choosing 4-6 Promising Models and Fine-tune those models with the help of GridSearchCV**"
      ]
    },
    {
      "cell_type": "code",
      "metadata": {
        "id": "icmGAcSwv5r2"
      },
      "source": [
        "from sklearn.model_selection import GridSearchCV"
      ],
      "execution_count": null,
      "outputs": []
    },
    {
      "cell_type": "markdown",
      "metadata": {
        "id": "l3bclGBVgcO7"
      },
      "source": [
        "## **RandomForest**"
      ]
    },
    {
      "cell_type": "code",
      "metadata": {
        "id": "EuF_LdiDhJgr",
        "outputId": "f0011da4-ad64-4c5c-bd23-203852d4882d",
        "colab": {
          "base_uri": "https://localhost:8080/"
        }
      },
      "source": [
        "param_grid_RF3 = [\n",
        "    {'n_estimators': [10, 50], 'max_depth' : [3,6], 'min_samples_split' : [2,4], 'max_features' : [3,6]},\n",
        "    {'bootstrap': [False], 'n_estimators': [10, 50], 'max_depth' : [3,6], 'min_samples_split' : [2,4], 'max_features' : [3,6]},\n",
        "]\n",
        "\n",
        "RF3_reg = RandomForestRegressor()\n",
        "\n",
        "grid_search_RF3 = GridSearchCV(RF3_reg, param_grid_RF3, cv=6, scoring='neg_mean_squared_error', return_train_score=True)\n",
        "\n",
        "grid_search_RF3.fit(nycAB_ready, nycAB_imputed_target)"
      ],
      "execution_count": null,
      "outputs": [
        {
          "output_type": "execute_result",
          "data": {
            "text/plain": [
              "GridSearchCV(cv=6, error_score=nan,\n",
              "             estimator=RandomForestRegressor(bootstrap=True, ccp_alpha=0.0,\n",
              "                                             criterion='mse', max_depth=None,\n",
              "                                             max_features='auto',\n",
              "                                             max_leaf_nodes=None,\n",
              "                                             max_samples=None,\n",
              "                                             min_impurity_decrease=0.0,\n",
              "                                             min_impurity_split=None,\n",
              "                                             min_samples_leaf=1,\n",
              "                                             min_samples_split=2,\n",
              "                                             min_weight_fraction_leaf=0.0,\n",
              "                                             n_estimators=100, n_jobs=None,\n",
              "                                             oob_score=False, rand...\n",
              "                                             verbose=0, warm_start=False),\n",
              "             iid='deprecated', n_jobs=None,\n",
              "             param_grid=[{'max_depth': [3, 6], 'max_features': [3, 6],\n",
              "                          'min_samples_split': [2, 4],\n",
              "                          'n_estimators': [10, 50]},\n",
              "                         {'bootstrap': [False], 'max_depth': [3, 6],\n",
              "                          'max_features': [3, 6], 'min_samples_split': [2, 4],\n",
              "                          'n_estimators': [10, 50]}],\n",
              "             pre_dispatch='2*n_jobs', refit=True, return_train_score=True,\n",
              "             scoring='neg_mean_squared_error', verbose=0)"
            ]
          },
          "metadata": {
            "tags": []
          },
          "execution_count": 96
        }
      ]
    },
    {
      "cell_type": "code",
      "metadata": {
        "id": "7NJ_FPa00vr2",
        "outputId": "50858c25-db91-4026-9755-d09b19a7f418",
        "colab": {
          "base_uri": "https://localhost:8080/"
        }
      },
      "source": [
        "print(grid_search_RF3.best_params_)\n",
        "print()\n",
        "print(grid_search_RF3.best_estimator_)"
      ],
      "execution_count": null,
      "outputs": [
        {
          "output_type": "stream",
          "text": [
            "{'max_depth': 6, 'max_features': 6, 'min_samples_split': 4, 'n_estimators': 50}\n",
            "\n",
            "RandomForestRegressor(bootstrap=True, ccp_alpha=0.0, criterion='mse',\n",
            "                      max_depth=6, max_features=6, max_leaf_nodes=None,\n",
            "                      max_samples=None, min_impurity_decrease=0.0,\n",
            "                      min_impurity_split=None, min_samples_leaf=1,\n",
            "                      min_samples_split=4, min_weight_fraction_leaf=0.0,\n",
            "                      n_estimators=50, n_jobs=None, oob_score=False,\n",
            "                      random_state=None, verbose=0, warm_start=False)\n"
          ],
          "name": "stdout"
        }
      ]
    },
    {
      "cell_type": "code",
      "metadata": {
        "id": "Q3R3wLF602Kk",
        "outputId": "bf968263-f8d0-4f0c-cf85-9e576f1af6e7",
        "colab": {
          "base_uri": "https://localhost:8080/"
        }
      },
      "source": [
        "cvRes_RF3 = grid_search_RF3.cv_results_\n",
        "for mean_score, params in zip(cvRes_RF3[\"mean_test_score\"], cvRes_RF3[\"params\"]):\n",
        "  if params == grid_search_RF3.best_params_:\n",
        "    print(np.sqrt(-mean_score), params) #206.78076493823684"
      ],
      "execution_count": null,
      "outputs": [
        {
          "output_type": "stream",
          "text": [
            "0.6941263534538009 {'max_depth': 6, 'max_features': 6, 'min_samples_split': 4, 'n_estimators': 50}\n"
          ],
          "name": "stdout"
        }
      ]
    },
    {
      "cell_type": "markdown",
      "metadata": {
        "id": "IFgvOhFwDmwV"
      },
      "source": [
        "## **Regularized Linear Regression** w/ SGD "
      ]
    },
    {
      "cell_type": "code",
      "metadata": {
        "id": "huGnAmE0FHuw",
        "outputId": "152a5456-72a0-4052-b9b1-2d92ce245d3b",
        "colab": {
          "base_uri": "https://localhost:8080/"
        }
      },
      "source": [
        "param_grid_sgd2 = [\n",
        "    {'loss' : ['squared_loss', 'huber', 'epsilon_insensitive'], 'penalty' : ['l2', 'l1', 'elasticnet'], 'alpha': [0.0001, 0.005, 0.1, 1],\n",
        "     'epsilon' : [0.1, 0.01], 'random_state' : [randState], 'eta0' : [0.1, 0.01]},\n",
        "]\n",
        "\n",
        "sgd2_reg = SGDRegressor()\n",
        "grid_search_sgd2 = GridSearchCV(sgd2_reg, param_grid_sgd2, cv=6, scoring='neg_mean_squared_error', return_train_score=True)\n",
        "grid_search_sgd2.fit(nycAB_ready, nycAB_imputed_target)"
      ],
      "execution_count": null,
      "outputs": [
        {
          "output_type": "execute_result",
          "data": {
            "text/plain": [
              "GridSearchCV(cv=6, error_score=nan,\n",
              "             estimator=SGDRegressor(alpha=0.0001, average=False,\n",
              "                                    early_stopping=False, epsilon=0.1,\n",
              "                                    eta0=0.01, fit_intercept=True,\n",
              "                                    l1_ratio=0.15, learning_rate='invscaling',\n",
              "                                    loss='squared_loss', max_iter=1000,\n",
              "                                    n_iter_no_change=5, penalty='l2',\n",
              "                                    power_t=0.25, random_state=None,\n",
              "                                    shuffle=True, tol=0.001,\n",
              "                                    validation_fraction=0.1, verbose=0,\n",
              "                                    warm_start=False),\n",
              "             iid='deprecated', n_jobs=None,\n",
              "             param_grid=[{'alpha': [0.0001, 0.005, 0.1, 1],\n",
              "                          'epsilon': [0.1, 0.01], 'eta0': [0.1, 0.01],\n",
              "                          'loss': ['squared_loss', 'huber',\n",
              "                                   'epsilon_insensitive'],\n",
              "                          'penalty': ['l2', 'l1', 'elasticnet'],\n",
              "                          'random_state': [69]}],\n",
              "             pre_dispatch='2*n_jobs', refit=True, return_train_score=True,\n",
              "             scoring='neg_mean_squared_error', verbose=0)"
            ]
          },
          "metadata": {
            "tags": []
          },
          "execution_count": 99
        }
      ]
    },
    {
      "cell_type": "code",
      "metadata": {
        "id": "o7xps0_HMmBK",
        "outputId": "cb698d3b-09b1-485e-acb3-05afba023ddb",
        "colab": {
          "base_uri": "https://localhost:8080/"
        }
      },
      "source": [
        "print(grid_search_sgd2.best_params_)\n",
        "print()\n",
        "print(grid_search_sgd2.best_estimator_)"
      ],
      "execution_count": null,
      "outputs": [
        {
          "output_type": "stream",
          "text": [
            "{'alpha': 0.005, 'epsilon': 0.1, 'eta0': 0.01, 'loss': 'squared_loss', 'penalty': 'elasticnet', 'random_state': 69}\n",
            "\n",
            "SGDRegressor(alpha=0.005, average=False, early_stopping=False, epsilon=0.1,\n",
            "             eta0=0.01, fit_intercept=True, l1_ratio=0.15,\n",
            "             learning_rate='invscaling', loss='squared_loss', max_iter=1000,\n",
            "             n_iter_no_change=5, penalty='elasticnet', power_t=0.25,\n",
            "             random_state=69, shuffle=True, tol=0.001, validation_fraction=0.1,\n",
            "             verbose=0, warm_start=False)\n"
          ],
          "name": "stdout"
        }
      ]
    },
    {
      "cell_type": "code",
      "metadata": {
        "id": "c9GvhbH7MokQ",
        "outputId": "3c91a4dc-799b-42c2-dd15-49e01d9d8a25",
        "colab": {
          "base_uri": "https://localhost:8080/"
        }
      },
      "source": [
        "cvRes_sgd2 = grid_search_sgd2.cv_results_\n",
        "for mean_score, params in zip(cvRes_sgd2[\"mean_test_score\"], cvRes_sgd2[\"params\"]):\n",
        "  if params == grid_search_sgd2.best_params_:\n",
        "    print(np.sqrt(-mean_score), params) #212.22885387569934 (Actually a slightly worse than the barely parametrized sgd1)"
      ],
      "execution_count": null,
      "outputs": [
        {
          "output_type": "stream",
          "text": [
            "0.7140770637875724 {'alpha': 0.005, 'epsilon': 0.1, 'eta0': 0.01, 'loss': 'squared_loss', 'penalty': 'elasticnet', 'random_state': 69}\n"
          ],
          "name": "stdout"
        }
      ]
    },
    {
      "cell_type": "markdown",
      "metadata": {
        "id": "TtWVQhplTBbC"
      },
      "source": [
        "## **Bagging and Pasting** \n"
      ]
    },
    {
      "cell_type": "code",
      "metadata": {
        "id": "NI0ppyaTTOs2",
        "outputId": "101682f9-7994-4df1-9ff4-321757e97687",
        "colab": {
          "base_uri": "https://localhost:8080/"
        }
      },
      "source": [
        "param_grid_bag2 = [\n",
        "    {'base_estimator': [SVR(), DecisionTreeRegressor()], 'n_estimators': [10, 50, 100], 'max_features' : [2,6], 'max_samples' : [1,10,100], 'random_state' : [randState]},\n",
        "    {'bootstrap': [False], 'base_estimator': [SVR(), DecisionTreeRegressor()], 'n_estimators': [10, 50, 100], 'max_features' : [2,6], 'max_samples' : [1,10,100], 'random_state' : [randState]},\n",
        "] \n",
        "\n",
        "bag2_reg = BaggingRegressor()\n",
        "\n",
        "grid_search_bag2 = GridSearchCV(bag2_reg, param_grid_bag2, cv=6, scoring='neg_mean_squared_error', return_train_score=True)\n",
        "\n",
        "grid_search_bag2.fit(nycAB_ready, nycAB_imputed_target)"
      ],
      "execution_count": null,
      "outputs": [
        {
          "output_type": "execute_result",
          "data": {
            "text/plain": [
              "GridSearchCV(cv=6, error_score=nan,\n",
              "             estimator=BaggingRegressor(base_estimator=None, bootstrap=True,\n",
              "                                        bootstrap_features=False,\n",
              "                                        max_features=1.0, max_samples=1.0,\n",
              "                                        n_estimators=10, n_jobs=None,\n",
              "                                        oob_score=False, random_state=None,\n",
              "                                        verbose=0, warm_start=False),\n",
              "             iid='deprecated', n_jobs=None,\n",
              "             param_grid=[{'base_estimator': [SVR(C=1.0, cache_size=200,\n",
              "                                                 coef0=0.0, degree=3,\n",
              "                                                 ep...\n",
              "                                                                   min_impurity_split=None,\n",
              "                                                                   min_samples_leaf=1,\n",
              "                                                                   min_samples_split=2,\n",
              "                                                                   min_weight_fraction_leaf=0.0,\n",
              "                                                                   presort='deprecated',\n",
              "                                                                   random_state=None,\n",
              "                                                                   splitter='best')],\n",
              "                          'bootstrap': [False], 'max_features': [2, 6],\n",
              "                          'max_samples': [1, 10, 100],\n",
              "                          'n_estimators': [10, 50, 100],\n",
              "                          'random_state': [69]}],\n",
              "             pre_dispatch='2*n_jobs', refit=True, return_train_score=True,\n",
              "             scoring='neg_mean_squared_error', verbose=0)"
            ]
          },
          "metadata": {
            "tags": []
          },
          "execution_count": 102
        }
      ]
    },
    {
      "cell_type": "code",
      "metadata": {
        "id": "RDTfcammTOgn",
        "outputId": "7754d4fe-86e6-4a05-b9e3-d50c138c8cc8",
        "colab": {
          "base_uri": "https://localhost:8080/"
        }
      },
      "source": [
        "print(grid_search_bag2.best_params_)\n",
        "print()\n",
        "print(grid_search_bag2.best_estimator_)"
      ],
      "execution_count": null,
      "outputs": [
        {
          "output_type": "stream",
          "text": [
            "{'base_estimator': DecisionTreeRegressor(ccp_alpha=0.0, criterion='mse', max_depth=None,\n",
            "                      max_features=None, max_leaf_nodes=None,\n",
            "                      min_impurity_decrease=0.0, min_impurity_split=None,\n",
            "                      min_samples_leaf=1, min_samples_split=2,\n",
            "                      min_weight_fraction_leaf=0.0, presort='deprecated',\n",
            "                      random_state=None, splitter='best'), 'bootstrap': False, 'max_features': 6, 'max_samples': 100, 'n_estimators': 100, 'random_state': 69}\n",
            "\n",
            "BaggingRegressor(base_estimator=DecisionTreeRegressor(ccp_alpha=0.0,\n",
            "                                                      criterion='mse',\n",
            "                                                      max_depth=None,\n",
            "                                                      max_features=None,\n",
            "                                                      max_leaf_nodes=None,\n",
            "                                                      min_impurity_decrease=0.0,\n",
            "                                                      min_impurity_split=None,\n",
            "                                                      min_samples_leaf=1,\n",
            "                                                      min_samples_split=2,\n",
            "                                                      min_weight_fraction_leaf=0.0,\n",
            "                                                      presort='deprecated',\n",
            "                                                      random_state=None,\n",
            "                                                      splitter='best'),\n",
            "                 bootstrap=False, bootstrap_features=False, max_features=6,\n",
            "                 max_samples=100, n_estimators=100, n_jobs=None,\n",
            "                 oob_score=False, random_state=69, verbose=0, warm_start=False)\n"
          ],
          "name": "stdout"
        }
      ]
    },
    {
      "cell_type": "code",
      "metadata": {
        "id": "Ms6yEFXETOTQ",
        "outputId": "22b8eca3-af9b-4f8e-b9ea-56ed19b84267",
        "colab": {
          "base_uri": "https://localhost:8080/"
        }
      },
      "source": [
        "cvRes_bag2 = grid_search_bag2.cv_results_\n",
        "for mean_score, params in zip(cvRes_bag2[\"mean_test_score\"], cvRes_bag2[\"params\"]):\n",
        "  if params == grid_search_bag2.best_params_:\n",
        "    print(np.sqrt(-mean_score), params) #Worse than what we could ahived when we did it in bagging1"
      ],
      "execution_count": null,
      "outputs": [
        {
          "output_type": "stream",
          "text": [
            "0.7376918628600695 {'base_estimator': DecisionTreeRegressor(ccp_alpha=0.0, criterion='mse', max_depth=None,\n",
            "                      max_features=None, max_leaf_nodes=None,\n",
            "                      min_impurity_decrease=0.0, min_impurity_split=None,\n",
            "                      min_samples_leaf=1, min_samples_split=2,\n",
            "                      min_weight_fraction_leaf=0.0, presort='deprecated',\n",
            "                      random_state=None, splitter='best'), 'bootstrap': False, 'max_features': 6, 'max_samples': 100, 'n_estimators': 100, 'random_state': 69}\n"
          ],
          "name": "stdout"
        }
      ]
    },
    {
      "cell_type": "markdown",
      "metadata": {
        "id": "8bnMK_lggmF6"
      },
      "source": [
        "## **Gradient Boosting - XGBoost** "
      ]
    },
    {
      "cell_type": "code",
      "metadata": {
        "id": "fFigE37sglPa",
        "outputId": "87fcf23b-50aa-429c-ff02-9b192febb371",
        "colab": {
          "base_uri": "https://localhost:8080/"
        }
      },
      "source": [
        "param_grid_xgb3 = [\n",
        "    {'booster': ['gbtree'], 'eta': [0.03, 0.3], 'max_depth' : [3,6], 'gamma' : [0,10,100], 'max_features' : [3,6], 'subsample': [0.6, 0.9]},\n",
        "    #{'booster': ['gblinear'], 'updater': ['shotgun', 'coord_descent'], 'feature_selector' : ['cyclic', 'shuffle']},\n",
        "    #{'booster': ['gblinear'],  'updater': ['shotgun', 'coord_descent'], 'feature_selector' : ['thrifty', 'greedy'], 'top_k' : [0, 2, 3]}\n",
        "]\n",
        "\n",
        "xgb3_reg = xgb.XGBRegressor()\n",
        "\n",
        "grid_search_xgb3 = GridSearchCV(xgb3_reg, param_grid_xgb3, cv=6, scoring='neg_mean_squared_error', return_train_score=True)\n",
        "\n",
        "grid_search_xgb3.fit(nycAB_ready, nycAB_imputed_target)"
      ],
      "execution_count": null,
      "outputs": [
        {
          "output_type": "stream",
          "text": [
            "[18:30:52] WARNING: /workspace/src/objective/regression_obj.cu:152: reg:linear is now deprecated in favor of reg:squarederror.\n",
            "[18:30:55] WARNING: /workspace/src/objective/regression_obj.cu:152: reg:linear is now deprecated in favor of reg:squarederror.\n",
            "[18:30:58] WARNING: /workspace/src/objective/regression_obj.cu:152: reg:linear is now deprecated in favor of reg:squarederror.\n",
            "[18:31:02] WARNING: /workspace/src/objective/regression_obj.cu:152: reg:linear is now deprecated in favor of reg:squarederror.\n",
            "[18:31:06] WARNING: /workspace/src/objective/regression_obj.cu:152: reg:linear is now deprecated in favor of reg:squarederror.\n",
            "[18:31:09] WARNING: /workspace/src/objective/regression_obj.cu:152: reg:linear is now deprecated in favor of reg:squarederror.\n",
            "[18:31:12] WARNING: /workspace/src/objective/regression_obj.cu:152: reg:linear is now deprecated in favor of reg:squarederror.\n",
            "[18:31:15] WARNING: /workspace/src/objective/regression_obj.cu:152: reg:linear is now deprecated in favor of reg:squarederror.\n",
            "[18:31:19] WARNING: /workspace/src/objective/regression_obj.cu:152: reg:linear is now deprecated in favor of reg:squarederror.\n",
            "[18:31:22] WARNING: /workspace/src/objective/regression_obj.cu:152: reg:linear is now deprecated in favor of reg:squarederror.\n",
            "[18:31:25] WARNING: /workspace/src/objective/regression_obj.cu:152: reg:linear is now deprecated in favor of reg:squarederror.\n",
            "[18:31:28] WARNING: /workspace/src/objective/regression_obj.cu:152: reg:linear is now deprecated in favor of reg:squarederror.\n",
            "[18:31:31] WARNING: /workspace/src/objective/regression_obj.cu:152: reg:linear is now deprecated in favor of reg:squarederror.\n",
            "[18:31:34] WARNING: /workspace/src/objective/regression_obj.cu:152: reg:linear is now deprecated in favor of reg:squarederror.\n",
            "[18:31:37] WARNING: /workspace/src/objective/regression_obj.cu:152: reg:linear is now deprecated in favor of reg:squarederror.\n",
            "[18:31:40] WARNING: /workspace/src/objective/regression_obj.cu:152: reg:linear is now deprecated in favor of reg:squarederror.\n",
            "[18:31:43] WARNING: /workspace/src/objective/regression_obj.cu:152: reg:linear is now deprecated in favor of reg:squarederror.\n",
            "[18:31:46] WARNING: /workspace/src/objective/regression_obj.cu:152: reg:linear is now deprecated in favor of reg:squarederror.\n",
            "[18:31:50] WARNING: /workspace/src/objective/regression_obj.cu:152: reg:linear is now deprecated in favor of reg:squarederror.\n",
            "[18:31:53] WARNING: /workspace/src/objective/regression_obj.cu:152: reg:linear is now deprecated in favor of reg:squarederror.\n",
            "[18:31:56] WARNING: /workspace/src/objective/regression_obj.cu:152: reg:linear is now deprecated in favor of reg:squarederror.\n",
            "[18:31:59] WARNING: /workspace/src/objective/regression_obj.cu:152: reg:linear is now deprecated in favor of reg:squarederror.\n",
            "[18:32:02] WARNING: /workspace/src/objective/regression_obj.cu:152: reg:linear is now deprecated in favor of reg:squarederror.\n",
            "[18:32:05] WARNING: /workspace/src/objective/regression_obj.cu:152: reg:linear is now deprecated in favor of reg:squarederror.\n",
            "[18:32:08] WARNING: /workspace/src/objective/regression_obj.cu:152: reg:linear is now deprecated in favor of reg:squarederror.\n",
            "[18:32:15] WARNING: /workspace/src/objective/regression_obj.cu:152: reg:linear is now deprecated in favor of reg:squarederror.\n",
            "[18:32:21] WARNING: /workspace/src/objective/regression_obj.cu:152: reg:linear is now deprecated in favor of reg:squarederror.\n",
            "[18:32:27] WARNING: /workspace/src/objective/regression_obj.cu:152: reg:linear is now deprecated in favor of reg:squarederror.\n",
            "[18:32:34] WARNING: /workspace/src/objective/regression_obj.cu:152: reg:linear is now deprecated in favor of reg:squarederror.\n",
            "[18:32:40] WARNING: /workspace/src/objective/regression_obj.cu:152: reg:linear is now deprecated in favor of reg:squarederror.\n",
            "[18:32:46] WARNING: /workspace/src/objective/regression_obj.cu:152: reg:linear is now deprecated in favor of reg:squarederror.\n",
            "[18:32:53] WARNING: /workspace/src/objective/regression_obj.cu:152: reg:linear is now deprecated in favor of reg:squarederror.\n",
            "[18:32:59] WARNING: /workspace/src/objective/regression_obj.cu:152: reg:linear is now deprecated in favor of reg:squarederror.\n",
            "[18:33:05] WARNING: /workspace/src/objective/regression_obj.cu:152: reg:linear is now deprecated in favor of reg:squarederror.\n",
            "[18:33:12] WARNING: /workspace/src/objective/regression_obj.cu:152: reg:linear is now deprecated in favor of reg:squarederror.\n",
            "[18:33:18] WARNING: /workspace/src/objective/regression_obj.cu:152: reg:linear is now deprecated in favor of reg:squarederror.\n",
            "[18:33:25] WARNING: /workspace/src/objective/regression_obj.cu:152: reg:linear is now deprecated in favor of reg:squarederror.\n",
            "[18:33:31] WARNING: /workspace/src/objective/regression_obj.cu:152: reg:linear is now deprecated in favor of reg:squarederror.\n",
            "[18:33:37] WARNING: /workspace/src/objective/regression_obj.cu:152: reg:linear is now deprecated in favor of reg:squarederror.\n",
            "[18:33:43] WARNING: /workspace/src/objective/regression_obj.cu:152: reg:linear is now deprecated in favor of reg:squarederror.\n",
            "[18:33:50] WARNING: /workspace/src/objective/regression_obj.cu:152: reg:linear is now deprecated in favor of reg:squarederror.\n",
            "[18:33:56] WARNING: /workspace/src/objective/regression_obj.cu:152: reg:linear is now deprecated in favor of reg:squarederror.\n",
            "[18:34:02] WARNING: /workspace/src/objective/regression_obj.cu:152: reg:linear is now deprecated in favor of reg:squarederror.\n",
            "[18:34:09] WARNING: /workspace/src/objective/regression_obj.cu:152: reg:linear is now deprecated in favor of reg:squarederror.\n",
            "[18:34:15] WARNING: /workspace/src/objective/regression_obj.cu:152: reg:linear is now deprecated in favor of reg:squarederror.\n",
            "[18:34:22] WARNING: /workspace/src/objective/regression_obj.cu:152: reg:linear is now deprecated in favor of reg:squarederror.\n",
            "[18:34:28] WARNING: /workspace/src/objective/regression_obj.cu:152: reg:linear is now deprecated in favor of reg:squarederror.\n",
            "[18:34:35] WARNING: /workspace/src/objective/regression_obj.cu:152: reg:linear is now deprecated in favor of reg:squarederror.\n",
            "[18:34:41] WARNING: /workspace/src/objective/regression_obj.cu:152: reg:linear is now deprecated in favor of reg:squarederror.\n",
            "[18:34:44] WARNING: /workspace/src/objective/regression_obj.cu:152: reg:linear is now deprecated in favor of reg:squarederror.\n",
            "[18:34:47] WARNING: /workspace/src/objective/regression_obj.cu:152: reg:linear is now deprecated in favor of reg:squarederror.\n",
            "[18:34:50] WARNING: /workspace/src/objective/regression_obj.cu:152: reg:linear is now deprecated in favor of reg:squarederror.\n",
            "[18:34:53] WARNING: /workspace/src/objective/regression_obj.cu:152: reg:linear is now deprecated in favor of reg:squarederror.\n",
            "[18:34:56] WARNING: /workspace/src/objective/regression_obj.cu:152: reg:linear is now deprecated in favor of reg:squarederror.\n",
            "[18:34:59] WARNING: /workspace/src/objective/regression_obj.cu:152: reg:linear is now deprecated in favor of reg:squarederror.\n",
            "[18:35:02] WARNING: /workspace/src/objective/regression_obj.cu:152: reg:linear is now deprecated in favor of reg:squarederror.\n",
            "[18:35:06] WARNING: /workspace/src/objective/regression_obj.cu:152: reg:linear is now deprecated in favor of reg:squarederror.\n",
            "[18:35:09] WARNING: /workspace/src/objective/regression_obj.cu:152: reg:linear is now deprecated in favor of reg:squarederror.\n",
            "[18:35:12] WARNING: /workspace/src/objective/regression_obj.cu:152: reg:linear is now deprecated in favor of reg:squarederror.\n",
            "[18:35:15] WARNING: /workspace/src/objective/regression_obj.cu:152: reg:linear is now deprecated in favor of reg:squarederror.\n",
            "[18:35:18] WARNING: /workspace/src/objective/regression_obj.cu:152: reg:linear is now deprecated in favor of reg:squarederror.\n",
            "[18:35:21] WARNING: /workspace/src/objective/regression_obj.cu:152: reg:linear is now deprecated in favor of reg:squarederror.\n",
            "[18:35:24] WARNING: /workspace/src/objective/regression_obj.cu:152: reg:linear is now deprecated in favor of reg:squarederror.\n",
            "[18:35:27] WARNING: /workspace/src/objective/regression_obj.cu:152: reg:linear is now deprecated in favor of reg:squarederror.\n",
            "[18:35:30] WARNING: /workspace/src/objective/regression_obj.cu:152: reg:linear is now deprecated in favor of reg:squarederror.\n",
            "[18:35:33] WARNING: /workspace/src/objective/regression_obj.cu:152: reg:linear is now deprecated in favor of reg:squarederror.\n",
            "[18:35:36] WARNING: /workspace/src/objective/regression_obj.cu:152: reg:linear is now deprecated in favor of reg:squarederror.\n",
            "[18:35:39] WARNING: /workspace/src/objective/regression_obj.cu:152: reg:linear is now deprecated in favor of reg:squarederror.\n",
            "[18:35:42] WARNING: /workspace/src/objective/regression_obj.cu:152: reg:linear is now deprecated in favor of reg:squarederror.\n",
            "[18:35:45] WARNING: /workspace/src/objective/regression_obj.cu:152: reg:linear is now deprecated in favor of reg:squarederror.\n",
            "[18:35:48] WARNING: /workspace/src/objective/regression_obj.cu:152: reg:linear is now deprecated in favor of reg:squarederror.\n",
            "[18:35:51] WARNING: /workspace/src/objective/regression_obj.cu:152: reg:linear is now deprecated in favor of reg:squarederror.\n",
            "[18:35:54] WARNING: /workspace/src/objective/regression_obj.cu:152: reg:linear is now deprecated in favor of reg:squarederror.\n",
            "[18:36:00] WARNING: /workspace/src/objective/regression_obj.cu:152: reg:linear is now deprecated in favor of reg:squarederror.\n",
            "[18:36:06] WARNING: /workspace/src/objective/regression_obj.cu:152: reg:linear is now deprecated in favor of reg:squarederror.\n",
            "[18:36:12] WARNING: /workspace/src/objective/regression_obj.cu:152: reg:linear is now deprecated in favor of reg:squarederror.\n",
            "[18:36:18] WARNING: /workspace/src/objective/regression_obj.cu:152: reg:linear is now deprecated in favor of reg:squarederror.\n",
            "[18:36:24] WARNING: /workspace/src/objective/regression_obj.cu:152: reg:linear is now deprecated in favor of reg:squarederror.\n",
            "[18:36:30] WARNING: /workspace/src/objective/regression_obj.cu:152: reg:linear is now deprecated in favor of reg:squarederror.\n",
            "[18:36:37] WARNING: /workspace/src/objective/regression_obj.cu:152: reg:linear is now deprecated in favor of reg:squarederror.\n",
            "[18:36:43] WARNING: /workspace/src/objective/regression_obj.cu:152: reg:linear is now deprecated in favor of reg:squarederror.\n",
            "[18:36:49] WARNING: /workspace/src/objective/regression_obj.cu:152: reg:linear is now deprecated in favor of reg:squarederror.\n",
            "[18:36:55] WARNING: /workspace/src/objective/regression_obj.cu:152: reg:linear is now deprecated in favor of reg:squarederror.\n",
            "[18:37:01] WARNING: /workspace/src/objective/regression_obj.cu:152: reg:linear is now deprecated in favor of reg:squarederror.\n",
            "[18:37:07] WARNING: /workspace/src/objective/regression_obj.cu:152: reg:linear is now deprecated in favor of reg:squarederror.\n",
            "[18:37:13] WARNING: /workspace/src/objective/regression_obj.cu:152: reg:linear is now deprecated in favor of reg:squarederror.\n",
            "[18:37:19] WARNING: /workspace/src/objective/regression_obj.cu:152: reg:linear is now deprecated in favor of reg:squarederror.\n",
            "[18:37:25] WARNING: /workspace/src/objective/regression_obj.cu:152: reg:linear is now deprecated in favor of reg:squarederror.\n",
            "[18:37:31] WARNING: /workspace/src/objective/regression_obj.cu:152: reg:linear is now deprecated in favor of reg:squarederror.\n",
            "[18:37:37] WARNING: /workspace/src/objective/regression_obj.cu:152: reg:linear is now deprecated in favor of reg:squarederror.\n",
            "[18:37:43] WARNING: /workspace/src/objective/regression_obj.cu:152: reg:linear is now deprecated in favor of reg:squarederror.\n",
            "[18:37:50] WARNING: /workspace/src/objective/regression_obj.cu:152: reg:linear is now deprecated in favor of reg:squarederror.\n",
            "[18:37:56] WARNING: /workspace/src/objective/regression_obj.cu:152: reg:linear is now deprecated in favor of reg:squarederror.\n",
            "[18:38:02] WARNING: /workspace/src/objective/regression_obj.cu:152: reg:linear is now deprecated in favor of reg:squarederror.\n",
            "[18:38:08] WARNING: /workspace/src/objective/regression_obj.cu:152: reg:linear is now deprecated in favor of reg:squarederror.\n",
            "[18:38:14] WARNING: /workspace/src/objective/regression_obj.cu:152: reg:linear is now deprecated in favor of reg:squarederror.\n",
            "[18:38:20] WARNING: /workspace/src/objective/regression_obj.cu:152: reg:linear is now deprecated in favor of reg:squarederror.\n",
            "[18:38:23] WARNING: /workspace/src/objective/regression_obj.cu:152: reg:linear is now deprecated in favor of reg:squarederror.\n",
            "[18:38:26] WARNING: /workspace/src/objective/regression_obj.cu:152: reg:linear is now deprecated in favor of reg:squarederror.\n",
            "[18:38:29] WARNING: /workspace/src/objective/regression_obj.cu:152: reg:linear is now deprecated in favor of reg:squarederror.\n",
            "[18:38:32] WARNING: /workspace/src/objective/regression_obj.cu:152: reg:linear is now deprecated in favor of reg:squarederror.\n",
            "[18:38:35] WARNING: /workspace/src/objective/regression_obj.cu:152: reg:linear is now deprecated in favor of reg:squarederror.\n",
            "[18:38:38] WARNING: /workspace/src/objective/regression_obj.cu:152: reg:linear is now deprecated in favor of reg:squarederror.\n",
            "[18:38:41] WARNING: /workspace/src/objective/regression_obj.cu:152: reg:linear is now deprecated in favor of reg:squarederror.\n",
            "[18:38:44] WARNING: /workspace/src/objective/regression_obj.cu:152: reg:linear is now deprecated in favor of reg:squarederror.\n",
            "[18:38:47] WARNING: /workspace/src/objective/regression_obj.cu:152: reg:linear is now deprecated in favor of reg:squarederror.\n",
            "[18:38:50] WARNING: /workspace/src/objective/regression_obj.cu:152: reg:linear is now deprecated in favor of reg:squarederror.\n",
            "[18:38:53] WARNING: /workspace/src/objective/regression_obj.cu:152: reg:linear is now deprecated in favor of reg:squarederror.\n",
            "[18:38:56] WARNING: /workspace/src/objective/regression_obj.cu:152: reg:linear is now deprecated in favor of reg:squarederror.\n",
            "[18:38:59] WARNING: /workspace/src/objective/regression_obj.cu:152: reg:linear is now deprecated in favor of reg:squarederror.\n",
            "[18:39:02] WARNING: /workspace/src/objective/regression_obj.cu:152: reg:linear is now deprecated in favor of reg:squarederror.\n",
            "[18:39:05] WARNING: /workspace/src/objective/regression_obj.cu:152: reg:linear is now deprecated in favor of reg:squarederror.\n",
            "[18:39:08] WARNING: /workspace/src/objective/regression_obj.cu:152: reg:linear is now deprecated in favor of reg:squarederror.\n",
            "[18:39:11] WARNING: /workspace/src/objective/regression_obj.cu:152: reg:linear is now deprecated in favor of reg:squarederror.\n",
            "[18:39:14] WARNING: /workspace/src/objective/regression_obj.cu:152: reg:linear is now deprecated in favor of reg:squarederror.\n",
            "[18:39:17] WARNING: /workspace/src/objective/regression_obj.cu:152: reg:linear is now deprecated in favor of reg:squarederror.\n",
            "[18:39:20] WARNING: /workspace/src/objective/regression_obj.cu:152: reg:linear is now deprecated in favor of reg:squarederror.\n",
            "[18:39:23] WARNING: /workspace/src/objective/regression_obj.cu:152: reg:linear is now deprecated in favor of reg:squarederror.\n",
            "[18:39:26] WARNING: /workspace/src/objective/regression_obj.cu:152: reg:linear is now deprecated in favor of reg:squarederror.\n",
            "[18:39:29] WARNING: /workspace/src/objective/regression_obj.cu:152: reg:linear is now deprecated in favor of reg:squarederror.\n",
            "[18:39:32] WARNING: /workspace/src/objective/regression_obj.cu:152: reg:linear is now deprecated in favor of reg:squarederror.\n",
            "[18:39:38] WARNING: /workspace/src/objective/regression_obj.cu:152: reg:linear is now deprecated in favor of reg:squarederror.\n",
            "[18:39:44] WARNING: /workspace/src/objective/regression_obj.cu:152: reg:linear is now deprecated in favor of reg:squarederror.\n",
            "[18:39:51] WARNING: /workspace/src/objective/regression_obj.cu:152: reg:linear is now deprecated in favor of reg:squarederror.\n",
            "[18:39:57] WARNING: /workspace/src/objective/regression_obj.cu:152: reg:linear is now deprecated in favor of reg:squarederror.\n",
            "[18:40:03] WARNING: /workspace/src/objective/regression_obj.cu:152: reg:linear is now deprecated in favor of reg:squarederror.\n",
            "[18:40:09] WARNING: /workspace/src/objective/regression_obj.cu:152: reg:linear is now deprecated in favor of reg:squarederror.\n",
            "[18:40:16] WARNING: /workspace/src/objective/regression_obj.cu:152: reg:linear is now deprecated in favor of reg:squarederror.\n",
            "[18:40:22] WARNING: /workspace/src/objective/regression_obj.cu:152: reg:linear is now deprecated in favor of reg:squarederror.\n",
            "[18:40:28] WARNING: /workspace/src/objective/regression_obj.cu:152: reg:linear is now deprecated in favor of reg:squarederror.\n",
            "[18:40:35] WARNING: /workspace/src/objective/regression_obj.cu:152: reg:linear is now deprecated in favor of reg:squarederror.\n",
            "[18:40:41] WARNING: /workspace/src/objective/regression_obj.cu:152: reg:linear is now deprecated in favor of reg:squarederror.\n",
            "[18:40:48] WARNING: /workspace/src/objective/regression_obj.cu:152: reg:linear is now deprecated in favor of reg:squarederror.\n",
            "[18:40:54] WARNING: /workspace/src/objective/regression_obj.cu:152: reg:linear is now deprecated in favor of reg:squarederror.\n",
            "[18:41:00] WARNING: /workspace/src/objective/regression_obj.cu:152: reg:linear is now deprecated in favor of reg:squarederror.\n",
            "[18:41:06] WARNING: /workspace/src/objective/regression_obj.cu:152: reg:linear is now deprecated in favor of reg:squarederror.\n",
            "[18:41:13] WARNING: /workspace/src/objective/regression_obj.cu:152: reg:linear is now deprecated in favor of reg:squarederror.\n",
            "[18:41:19] WARNING: /workspace/src/objective/regression_obj.cu:152: reg:linear is now deprecated in favor of reg:squarederror.\n",
            "[18:41:25] WARNING: /workspace/src/objective/regression_obj.cu:152: reg:linear is now deprecated in favor of reg:squarederror.\n",
            "[18:41:31] WARNING: /workspace/src/objective/regression_obj.cu:152: reg:linear is now deprecated in favor of reg:squarederror.\n",
            "[18:41:38] WARNING: /workspace/src/objective/regression_obj.cu:152: reg:linear is now deprecated in favor of reg:squarederror.\n",
            "[18:41:44] WARNING: /workspace/src/objective/regression_obj.cu:152: reg:linear is now deprecated in favor of reg:squarederror.\n",
            "[18:41:51] WARNING: /workspace/src/objective/regression_obj.cu:152: reg:linear is now deprecated in favor of reg:squarederror.\n",
            "[18:41:57] WARNING: /workspace/src/objective/regression_obj.cu:152: reg:linear is now deprecated in favor of reg:squarederror.\n",
            "[18:42:04] WARNING: /workspace/src/objective/regression_obj.cu:152: reg:linear is now deprecated in favor of reg:squarederror.\n",
            "[18:42:07] WARNING: /workspace/src/objective/regression_obj.cu:152: reg:linear is now deprecated in favor of reg:squarederror.\n",
            "[18:42:10] WARNING: /workspace/src/objective/regression_obj.cu:152: reg:linear is now deprecated in favor of reg:squarederror.\n",
            "[18:42:13] WARNING: /workspace/src/objective/regression_obj.cu:152: reg:linear is now deprecated in favor of reg:squarederror.\n",
            "[18:42:16] WARNING: /workspace/src/objective/regression_obj.cu:152: reg:linear is now deprecated in favor of reg:squarederror.\n",
            "[18:42:19] WARNING: /workspace/src/objective/regression_obj.cu:152: reg:linear is now deprecated in favor of reg:squarederror.\n",
            "[18:42:22] WARNING: /workspace/src/objective/regression_obj.cu:152: reg:linear is now deprecated in favor of reg:squarederror.\n",
            "[18:42:25] WARNING: /workspace/src/objective/regression_obj.cu:152: reg:linear is now deprecated in favor of reg:squarederror.\n",
            "[18:42:28] WARNING: /workspace/src/objective/regression_obj.cu:152: reg:linear is now deprecated in favor of reg:squarederror.\n",
            "[18:42:31] WARNING: /workspace/src/objective/regression_obj.cu:152: reg:linear is now deprecated in favor of reg:squarederror.\n",
            "[18:42:35] WARNING: /workspace/src/objective/regression_obj.cu:152: reg:linear is now deprecated in favor of reg:squarederror.\n",
            "[18:42:38] WARNING: /workspace/src/objective/regression_obj.cu:152: reg:linear is now deprecated in favor of reg:squarederror.\n",
            "[18:42:41] WARNING: /workspace/src/objective/regression_obj.cu:152: reg:linear is now deprecated in favor of reg:squarederror.\n",
            "[18:42:44] WARNING: /workspace/src/objective/regression_obj.cu:152: reg:linear is now deprecated in favor of reg:squarederror.\n",
            "[18:42:47] WARNING: /workspace/src/objective/regression_obj.cu:152: reg:linear is now deprecated in favor of reg:squarederror.\n",
            "[18:42:50] WARNING: /workspace/src/objective/regression_obj.cu:152: reg:linear is now deprecated in favor of reg:squarederror.\n",
            "[18:42:53] WARNING: /workspace/src/objective/regression_obj.cu:152: reg:linear is now deprecated in favor of reg:squarederror.\n",
            "[18:42:56] WARNING: /workspace/src/objective/regression_obj.cu:152: reg:linear is now deprecated in favor of reg:squarederror.\n",
            "[18:42:59] WARNING: /workspace/src/objective/regression_obj.cu:152: reg:linear is now deprecated in favor of reg:squarederror.\n",
            "[18:43:02] WARNING: /workspace/src/objective/regression_obj.cu:152: reg:linear is now deprecated in favor of reg:squarederror.\n",
            "[18:43:05] WARNING: /workspace/src/objective/regression_obj.cu:152: reg:linear is now deprecated in favor of reg:squarederror.\n",
            "[18:43:08] WARNING: /workspace/src/objective/regression_obj.cu:152: reg:linear is now deprecated in favor of reg:squarederror.\n",
            "[18:43:11] WARNING: /workspace/src/objective/regression_obj.cu:152: reg:linear is now deprecated in favor of reg:squarederror.\n",
            "[18:43:15] WARNING: /workspace/src/objective/regression_obj.cu:152: reg:linear is now deprecated in favor of reg:squarederror.\n",
            "[18:43:18] WARNING: /workspace/src/objective/regression_obj.cu:152: reg:linear is now deprecated in favor of reg:squarederror.\n",
            "[18:43:24] WARNING: /workspace/src/objective/regression_obj.cu:152: reg:linear is now deprecated in favor of reg:squarederror.\n",
            "[18:43:30] WARNING: /workspace/src/objective/regression_obj.cu:152: reg:linear is now deprecated in favor of reg:squarederror.\n",
            "[18:43:37] WARNING: /workspace/src/objective/regression_obj.cu:152: reg:linear is now deprecated in favor of reg:squarederror.\n",
            "[18:43:43] WARNING: /workspace/src/objective/regression_obj.cu:152: reg:linear is now deprecated in favor of reg:squarederror.\n",
            "[18:43:49] WARNING: /workspace/src/objective/regression_obj.cu:152: reg:linear is now deprecated in favor of reg:squarederror.\n",
            "[18:43:55] WARNING: /workspace/src/objective/regression_obj.cu:152: reg:linear is now deprecated in favor of reg:squarederror.\n",
            "[18:44:02] WARNING: /workspace/src/objective/regression_obj.cu:152: reg:linear is now deprecated in favor of reg:squarederror.\n",
            "[18:44:08] WARNING: /workspace/src/objective/regression_obj.cu:152: reg:linear is now deprecated in favor of reg:squarederror.\n",
            "[18:44:15] WARNING: /workspace/src/objective/regression_obj.cu:152: reg:linear is now deprecated in favor of reg:squarederror.\n",
            "[18:44:21] WARNING: /workspace/src/objective/regression_obj.cu:152: reg:linear is now deprecated in favor of reg:squarederror.\n",
            "[18:44:28] WARNING: /workspace/src/objective/regression_obj.cu:152: reg:linear is now deprecated in favor of reg:squarederror.\n",
            "[18:44:34] WARNING: /workspace/src/objective/regression_obj.cu:152: reg:linear is now deprecated in favor of reg:squarederror.\n",
            "[18:44:41] WARNING: /workspace/src/objective/regression_obj.cu:152: reg:linear is now deprecated in favor of reg:squarederror.\n",
            "[18:44:47] WARNING: /workspace/src/objective/regression_obj.cu:152: reg:linear is now deprecated in favor of reg:squarederror.\n",
            "[18:44:54] WARNING: /workspace/src/objective/regression_obj.cu:152: reg:linear is now deprecated in favor of reg:squarederror.\n",
            "[18:45:00] WARNING: /workspace/src/objective/regression_obj.cu:152: reg:linear is now deprecated in favor of reg:squarederror.\n",
            "[18:45:07] WARNING: /workspace/src/objective/regression_obj.cu:152: reg:linear is now deprecated in favor of reg:squarederror.\n",
            "[18:45:13] WARNING: /workspace/src/objective/regression_obj.cu:152: reg:linear is now deprecated in favor of reg:squarederror.\n",
            "[18:45:20] WARNING: /workspace/src/objective/regression_obj.cu:152: reg:linear is now deprecated in favor of reg:squarederror.\n",
            "[18:45:26] WARNING: /workspace/src/objective/regression_obj.cu:152: reg:linear is now deprecated in favor of reg:squarederror.\n",
            "[18:45:33] WARNING: /workspace/src/objective/regression_obj.cu:152: reg:linear is now deprecated in favor of reg:squarederror.\n",
            "[18:45:39] WARNING: /workspace/src/objective/regression_obj.cu:152: reg:linear is now deprecated in favor of reg:squarederror.\n",
            "[18:45:46] WARNING: /workspace/src/objective/regression_obj.cu:152: reg:linear is now deprecated in favor of reg:squarederror.\n",
            "[18:45:52] WARNING: /workspace/src/objective/regression_obj.cu:152: reg:linear is now deprecated in favor of reg:squarederror.\n",
            "[18:45:55] WARNING: /workspace/src/objective/regression_obj.cu:152: reg:linear is now deprecated in favor of reg:squarederror.\n",
            "[18:45:58] WARNING: /workspace/src/objective/regression_obj.cu:152: reg:linear is now deprecated in favor of reg:squarederror.\n",
            "[18:46:01] WARNING: /workspace/src/objective/regression_obj.cu:152: reg:linear is now deprecated in favor of reg:squarederror.\n",
            "[18:46:04] WARNING: /workspace/src/objective/regression_obj.cu:152: reg:linear is now deprecated in favor of reg:squarederror.\n",
            "[18:46:07] WARNING: /workspace/src/objective/regression_obj.cu:152: reg:linear is now deprecated in favor of reg:squarederror.\n",
            "[18:46:11] WARNING: /workspace/src/objective/regression_obj.cu:152: reg:linear is now deprecated in favor of reg:squarederror.\n",
            "[18:46:14] WARNING: /workspace/src/objective/regression_obj.cu:152: reg:linear is now deprecated in favor of reg:squarederror.\n",
            "[18:46:17] WARNING: /workspace/src/objective/regression_obj.cu:152: reg:linear is now deprecated in favor of reg:squarederror.\n",
            "[18:46:20] WARNING: /workspace/src/objective/regression_obj.cu:152: reg:linear is now deprecated in favor of reg:squarederror.\n",
            "[18:46:23] WARNING: /workspace/src/objective/regression_obj.cu:152: reg:linear is now deprecated in favor of reg:squarederror.\n",
            "[18:46:26] WARNING: /workspace/src/objective/regression_obj.cu:152: reg:linear is now deprecated in favor of reg:squarederror.\n",
            "[18:46:29] WARNING: /workspace/src/objective/regression_obj.cu:152: reg:linear is now deprecated in favor of reg:squarederror.\n",
            "[18:46:32] WARNING: /workspace/src/objective/regression_obj.cu:152: reg:linear is now deprecated in favor of reg:squarederror.\n",
            "[18:46:35] WARNING: /workspace/src/objective/regression_obj.cu:152: reg:linear is now deprecated in favor of reg:squarederror.\n",
            "[18:46:38] WARNING: /workspace/src/objective/regression_obj.cu:152: reg:linear is now deprecated in favor of reg:squarederror.\n",
            "[18:46:41] WARNING: /workspace/src/objective/regression_obj.cu:152: reg:linear is now deprecated in favor of reg:squarederror.\n",
            "[18:46:44] WARNING: /workspace/src/objective/regression_obj.cu:152: reg:linear is now deprecated in favor of reg:squarederror.\n",
            "[18:46:48] WARNING: /workspace/src/objective/regression_obj.cu:152: reg:linear is now deprecated in favor of reg:squarederror.\n",
            "[18:46:51] WARNING: /workspace/src/objective/regression_obj.cu:152: reg:linear is now deprecated in favor of reg:squarederror.\n",
            "[18:46:54] WARNING: /workspace/src/objective/regression_obj.cu:152: reg:linear is now deprecated in favor of reg:squarederror.\n",
            "[18:46:57] WARNING: /workspace/src/objective/regression_obj.cu:152: reg:linear is now deprecated in favor of reg:squarederror.\n",
            "[18:47:00] WARNING: /workspace/src/objective/regression_obj.cu:152: reg:linear is now deprecated in favor of reg:squarederror.\n",
            "[18:47:03] WARNING: /workspace/src/objective/regression_obj.cu:152: reg:linear is now deprecated in favor of reg:squarederror.\n",
            "[18:47:06] WARNING: /workspace/src/objective/regression_obj.cu:152: reg:linear is now deprecated in favor of reg:squarederror.\n",
            "[18:47:12] WARNING: /workspace/src/objective/regression_obj.cu:152: reg:linear is now deprecated in favor of reg:squarederror.\n",
            "[18:47:18] WARNING: /workspace/src/objective/regression_obj.cu:152: reg:linear is now deprecated in favor of reg:squarederror.\n",
            "[18:47:24] WARNING: /workspace/src/objective/regression_obj.cu:152: reg:linear is now deprecated in favor of reg:squarederror.\n",
            "[18:47:30] WARNING: /workspace/src/objective/regression_obj.cu:152: reg:linear is now deprecated in favor of reg:squarederror.\n",
            "[18:47:36] WARNING: /workspace/src/objective/regression_obj.cu:152: reg:linear is now deprecated in favor of reg:squarederror.\n",
            "[18:47:42] WARNING: /workspace/src/objective/regression_obj.cu:152: reg:linear is now deprecated in favor of reg:squarederror.\n",
            "[18:47:49] WARNING: /workspace/src/objective/regression_obj.cu:152: reg:linear is now deprecated in favor of reg:squarederror.\n",
            "[18:47:55] WARNING: /workspace/src/objective/regression_obj.cu:152: reg:linear is now deprecated in favor of reg:squarederror.\n",
            "[18:48:01] WARNING: /workspace/src/objective/regression_obj.cu:152: reg:linear is now deprecated in favor of reg:squarederror.\n",
            "[18:48:07] WARNING: /workspace/src/objective/regression_obj.cu:152: reg:linear is now deprecated in favor of reg:squarederror.\n",
            "[18:48:13] WARNING: /workspace/src/objective/regression_obj.cu:152: reg:linear is now deprecated in favor of reg:squarederror.\n",
            "[18:48:19] WARNING: /workspace/src/objective/regression_obj.cu:152: reg:linear is now deprecated in favor of reg:squarederror.\n",
            "[18:48:25] WARNING: /workspace/src/objective/regression_obj.cu:152: reg:linear is now deprecated in favor of reg:squarederror.\n",
            "[18:48:32] WARNING: /workspace/src/objective/regression_obj.cu:152: reg:linear is now deprecated in favor of reg:squarederror.\n",
            "[18:48:38] WARNING: /workspace/src/objective/regression_obj.cu:152: reg:linear is now deprecated in favor of reg:squarederror.\n",
            "[18:48:44] WARNING: /workspace/src/objective/regression_obj.cu:152: reg:linear is now deprecated in favor of reg:squarederror.\n",
            "[18:48:50] WARNING: /workspace/src/objective/regression_obj.cu:152: reg:linear is now deprecated in favor of reg:squarederror.\n",
            "[18:48:56] WARNING: /workspace/src/objective/regression_obj.cu:152: reg:linear is now deprecated in favor of reg:squarederror.\n",
            "[18:49:02] WARNING: /workspace/src/objective/regression_obj.cu:152: reg:linear is now deprecated in favor of reg:squarederror.\n",
            "[18:49:08] WARNING: /workspace/src/objective/regression_obj.cu:152: reg:linear is now deprecated in favor of reg:squarederror.\n",
            "[18:49:14] WARNING: /workspace/src/objective/regression_obj.cu:152: reg:linear is now deprecated in favor of reg:squarederror.\n",
            "[18:49:20] WARNING: /workspace/src/objective/regression_obj.cu:152: reg:linear is now deprecated in favor of reg:squarederror.\n",
            "[18:49:26] WARNING: /workspace/src/objective/regression_obj.cu:152: reg:linear is now deprecated in favor of reg:squarederror.\n",
            "[18:49:33] WARNING: /workspace/src/objective/regression_obj.cu:152: reg:linear is now deprecated in favor of reg:squarederror.\n",
            "[18:49:35] WARNING: /workspace/src/objective/regression_obj.cu:152: reg:linear is now deprecated in favor of reg:squarederror.\n",
            "[18:49:38] WARNING: /workspace/src/objective/regression_obj.cu:152: reg:linear is now deprecated in favor of reg:squarederror.\n",
            "[18:49:41] WARNING: /workspace/src/objective/regression_obj.cu:152: reg:linear is now deprecated in favor of reg:squarederror.\n",
            "[18:49:44] WARNING: /workspace/src/objective/regression_obj.cu:152: reg:linear is now deprecated in favor of reg:squarederror.\n",
            "[18:49:47] WARNING: /workspace/src/objective/regression_obj.cu:152: reg:linear is now deprecated in favor of reg:squarederror.\n",
            "[18:49:50] WARNING: /workspace/src/objective/regression_obj.cu:152: reg:linear is now deprecated in favor of reg:squarederror.\n",
            "[18:49:53] WARNING: /workspace/src/objective/regression_obj.cu:152: reg:linear is now deprecated in favor of reg:squarederror.\n",
            "[18:49:56] WARNING: /workspace/src/objective/regression_obj.cu:152: reg:linear is now deprecated in favor of reg:squarederror.\n",
            "[18:49:59] WARNING: /workspace/src/objective/regression_obj.cu:152: reg:linear is now deprecated in favor of reg:squarederror.\n",
            "[18:50:02] WARNING: /workspace/src/objective/regression_obj.cu:152: reg:linear is now deprecated in favor of reg:squarederror.\n",
            "[18:50:05] WARNING: /workspace/src/objective/regression_obj.cu:152: reg:linear is now deprecated in favor of reg:squarederror.\n",
            "[18:50:08] WARNING: /workspace/src/objective/regression_obj.cu:152: reg:linear is now deprecated in favor of reg:squarederror.\n",
            "[18:50:11] WARNING: /workspace/src/objective/regression_obj.cu:152: reg:linear is now deprecated in favor of reg:squarederror.\n",
            "[18:50:14] WARNING: /workspace/src/objective/regression_obj.cu:152: reg:linear is now deprecated in favor of reg:squarederror.\n",
            "[18:50:17] WARNING: /workspace/src/objective/regression_obj.cu:152: reg:linear is now deprecated in favor of reg:squarederror.\n",
            "[18:50:20] WARNING: /workspace/src/objective/regression_obj.cu:152: reg:linear is now deprecated in favor of reg:squarederror.\n",
            "[18:50:23] WARNING: /workspace/src/objective/regression_obj.cu:152: reg:linear is now deprecated in favor of reg:squarederror.\n",
            "[18:50:26] WARNING: /workspace/src/objective/regression_obj.cu:152: reg:linear is now deprecated in favor of reg:squarederror.\n",
            "[18:50:29] WARNING: /workspace/src/objective/regression_obj.cu:152: reg:linear is now deprecated in favor of reg:squarederror.\n",
            "[18:50:32] WARNING: /workspace/src/objective/regression_obj.cu:152: reg:linear is now deprecated in favor of reg:squarederror.\n",
            "[18:50:35] WARNING: /workspace/src/objective/regression_obj.cu:152: reg:linear is now deprecated in favor of reg:squarederror.\n",
            "[18:50:38] WARNING: /workspace/src/objective/regression_obj.cu:152: reg:linear is now deprecated in favor of reg:squarederror.\n",
            "[18:50:41] WARNING: /workspace/src/objective/regression_obj.cu:152: reg:linear is now deprecated in favor of reg:squarederror.\n",
            "[18:50:44] WARNING: /workspace/src/objective/regression_obj.cu:152: reg:linear is now deprecated in favor of reg:squarederror.\n",
            "[18:50:50] WARNING: /workspace/src/objective/regression_obj.cu:152: reg:linear is now deprecated in favor of reg:squarederror.\n",
            "[18:50:57] WARNING: /workspace/src/objective/regression_obj.cu:152: reg:linear is now deprecated in favor of reg:squarederror.\n",
            "[18:51:03] WARNING: /workspace/src/objective/regression_obj.cu:152: reg:linear is now deprecated in favor of reg:squarederror.\n",
            "[18:51:09] WARNING: /workspace/src/objective/regression_obj.cu:152: reg:linear is now deprecated in favor of reg:squarederror.\n",
            "[18:51:15] WARNING: /workspace/src/objective/regression_obj.cu:152: reg:linear is now deprecated in favor of reg:squarederror.\n",
            "[18:51:22] WARNING: /workspace/src/objective/regression_obj.cu:152: reg:linear is now deprecated in favor of reg:squarederror.\n",
            "[18:51:28] WARNING: /workspace/src/objective/regression_obj.cu:152: reg:linear is now deprecated in favor of reg:squarederror.\n",
            "[18:51:34] WARNING: /workspace/src/objective/regression_obj.cu:152: reg:linear is now deprecated in favor of reg:squarederror.\n",
            "[18:51:41] WARNING: /workspace/src/objective/regression_obj.cu:152: reg:linear is now deprecated in favor of reg:squarederror.\n",
            "[18:51:47] WARNING: /workspace/src/objective/regression_obj.cu:152: reg:linear is now deprecated in favor of reg:squarederror.\n",
            "[18:51:54] WARNING: /workspace/src/objective/regression_obj.cu:152: reg:linear is now deprecated in favor of reg:squarederror.\n",
            "[18:52:00] WARNING: /workspace/src/objective/regression_obj.cu:152: reg:linear is now deprecated in favor of reg:squarederror.\n",
            "[18:52:06] WARNING: /workspace/src/objective/regression_obj.cu:152: reg:linear is now deprecated in favor of reg:squarederror.\n",
            "[18:52:13] WARNING: /workspace/src/objective/regression_obj.cu:152: reg:linear is now deprecated in favor of reg:squarederror.\n",
            "[18:52:19] WARNING: /workspace/src/objective/regression_obj.cu:152: reg:linear is now deprecated in favor of reg:squarederror.\n",
            "[18:52:25] WARNING: /workspace/src/objective/regression_obj.cu:152: reg:linear is now deprecated in favor of reg:squarederror.\n",
            "[18:52:31] WARNING: /workspace/src/objective/regression_obj.cu:152: reg:linear is now deprecated in favor of reg:squarederror.\n",
            "[18:52:38] WARNING: /workspace/src/objective/regression_obj.cu:152: reg:linear is now deprecated in favor of reg:squarederror.\n",
            "[18:52:44] WARNING: /workspace/src/objective/regression_obj.cu:152: reg:linear is now deprecated in favor of reg:squarederror.\n",
            "[18:52:50] WARNING: /workspace/src/objective/regression_obj.cu:152: reg:linear is now deprecated in favor of reg:squarederror.\n",
            "[18:52:57] WARNING: /workspace/src/objective/regression_obj.cu:152: reg:linear is now deprecated in favor of reg:squarederror.\n",
            "[18:53:03] WARNING: /workspace/src/objective/regression_obj.cu:152: reg:linear is now deprecated in favor of reg:squarederror.\n",
            "[18:53:10] WARNING: /workspace/src/objective/regression_obj.cu:152: reg:linear is now deprecated in favor of reg:squarederror.\n",
            "[18:53:16] WARNING: /workspace/src/objective/regression_obj.cu:152: reg:linear is now deprecated in favor of reg:squarederror.\n"
          ],
          "name": "stdout"
        },
        {
          "output_type": "execute_result",
          "data": {
            "text/plain": [
              "GridSearchCV(cv=6, error_score=nan,\n",
              "             estimator=XGBRegressor(base_score=0.5, booster='gbtree',\n",
              "                                    colsample_bylevel=1, colsample_bynode=1,\n",
              "                                    colsample_bytree=1, gamma=0,\n",
              "                                    importance_type='gain', learning_rate=0.1,\n",
              "                                    max_delta_step=0, max_depth=3,\n",
              "                                    min_child_weight=1, missing=None,\n",
              "                                    n_estimators=100, n_jobs=1, nthread=None,\n",
              "                                    objective='reg:linear', random_state=0,\n",
              "                                    reg_alpha=0, reg_lambda=1,\n",
              "                                    scale_pos_weight=1, seed=None, silent=None,\n",
              "                                    subsample=1, verbosity=1),\n",
              "             iid='deprecated', n_jobs=None,\n",
              "             param_grid=[{'booster': ['gbtree'], 'eta': [0.03, 0.3],\n",
              "                          'gamma': [0, 10, 100], 'max_depth': [3, 6],\n",
              "                          'max_features': [3, 6], 'subsample': [0.6, 0.9]}],\n",
              "             pre_dispatch='2*n_jobs', refit=True, return_train_score=True,\n",
              "             scoring='neg_mean_squared_error', verbose=0)"
            ]
          },
          "metadata": {
            "tags": []
          },
          "execution_count": 105
        }
      ]
    },
    {
      "cell_type": "code",
      "metadata": {
        "id": "UFiXFC4himTX",
        "outputId": "8eb0c064-aa66-4095-8697-727be9e5334f",
        "colab": {
          "base_uri": "https://localhost:8080/"
        }
      },
      "source": [
        "print(grid_search_xgb3.best_params_)\n",
        "print()\n",
        "print(grid_search_xgb3.best_estimator_)"
      ],
      "execution_count": null,
      "outputs": [
        {
          "output_type": "stream",
          "text": [
            "{'booster': 'gbtree', 'eta': 0.03, 'gamma': 0, 'max_depth': 6, 'max_features': 3, 'subsample': 0.6}\n",
            "\n",
            "XGBRegressor(base_score=0.5, booster='gbtree', colsample_bylevel=1,\n",
            "             colsample_bynode=1, colsample_bytree=1, eta=0.03, gamma=0,\n",
            "             importance_type='gain', learning_rate=0.1, max_delta_step=0,\n",
            "             max_depth=6, max_features=3, min_child_weight=1, missing=None,\n",
            "             n_estimators=100, n_jobs=1, nthread=None, objective='reg:linear',\n",
            "             random_state=0, reg_alpha=0, reg_lambda=1, scale_pos_weight=1,\n",
            "             seed=None, silent=None, subsample=0.6, verbosity=1)\n"
          ],
          "name": "stdout"
        }
      ]
    },
    {
      "cell_type": "code",
      "metadata": {
        "id": "SbnF_GgDimEp",
        "outputId": "4d0631b6-ff43-4bda-e80d-94e96b9e9243",
        "colab": {
          "base_uri": "https://localhost:8080/"
        }
      },
      "source": [
        "cvRes_xgb3 = grid_search_xgb3.cv_results_\n",
        "for mean_score, params in zip(cvRes_xgb3[\"mean_test_score\"], cvRes_xgb3[\"params\"]):\n",
        "  if params == grid_search_xgb3.best_params_:\n",
        "    print(np.sqrt(-mean_score), params) #Worse than what we could ahived when we did it in bagging1"
      ],
      "execution_count": null,
      "outputs": [
        {
          "output_type": "stream",
          "text": [
            "0.6661136278719948 {'booster': 'gbtree', 'eta': 0.03, 'gamma': 0, 'max_depth': 6, 'max_features': 3, 'subsample': 0.6}\n"
          ],
          "name": "stdout"
        }
      ]
    },
    {
      "cell_type": "markdown",
      "metadata": {
        "id": "rso-qxmEvKlx"
      },
      "source": [
        "The Winner is the XGBoost."
      ]
    },
    {
      "cell_type": "markdown",
      "metadata": {
        "id": "sbNFyjlgcR4q"
      },
      "source": [
        "# **Last Steps** "
      ]
    },
    {
      "cell_type": "code",
      "metadata": {
        "id": "Gkq2UD08wVr-"
      },
      "source": [
        "final_model = grid_search_xgb3.best_estimator_"
      ],
      "execution_count": null,
      "outputs": []
    },
    {
      "cell_type": "markdown",
      "metadata": {
        "id": "ojNRq7x9bjvD"
      },
      "source": [
        "## **Running the final, selected model on the Test Set**"
      ]
    },
    {
      "cell_type": "code",
      "metadata": {
        "id": "pLDSBGObqw-G",
        "outputId": "5417828e-f12a-4c96-b4a3-7347243e2d16",
        "colab": {
          "base_uri": "https://localhost:8080/"
        }
      },
      "source": [
        "final_pred = final_model.predict(X_test_ready)\n",
        "\n",
        "final_mse = mean_squared_error(Y_test_ready, final_pred)\n",
        "final_rmse = np.sqrt(final_mse)\n",
        "print(final_rmse) #0.6438339121694955"
      ],
      "execution_count": null,
      "outputs": [
        {
          "output_type": "stream",
          "text": [
            "0.6769948844929081\n"
          ],
          "name": "stdout"
        }
      ]
    },
    {
      "cell_type": "code",
      "metadata": {
        "id": "3VT_qk1MXoYO"
      },
      "source": [
        ""
      ],
      "execution_count": null,
      "outputs": []
    }
  ]
}